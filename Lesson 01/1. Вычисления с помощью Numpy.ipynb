{
 "cells": [
  {
   "cell_type": "markdown",
   "metadata": {
    "id": "-pj83FrUwerA"
   },
   "source": [
    "# Вычисления с помощью NumPy"
   ]
  },
  {
   "cell_type": "markdown",
   "metadata": {
    "id": "J5bgzTFGwerI"
   },
   "source": [
    "## Многомерные массивы в NumPy\n",
    "\n",
    "Библиотека `numpy` поддерживает работу с многомерными массивами, в том числе, с матрицами, и очень хороша для научных расчётов. Библиотека написана не только на `Python`, но и на языке `C`, который является более низкоуровневым и работает значительно быстрее, поэтому расчёты в `numpy` производятся во много раз быстрее, чем если бы мы использовали для этого стандартные структуры данных из `Python`.\n",
    "\n",
    "Установить библиотеку `numpy` можно следующим образом:\n",
    "\n",
    "* Если вы используете `Python` в составе дистрибутива `Anaconda`, то достаточно в командной строке ввести:   \n",
    "`conda install numpy`\n",
    "\n",
    "* Если вы используете `Python` отдельно, то же самое можно сделать с помощью пакетного менеджера `pip`:   \n",
    "`pip install numpy`"
   ]
  },
  {
   "cell_type": "code",
   "execution_count": 1,
   "metadata": {
    "id": "OuuaXS_-GeuE",
    "executionInfo": {
     "status": "ok",
     "timestamp": 1671442883196,
     "user_tz": -180,
     "elapsed": 4,
     "user": {
      "displayName": "misha ndri (mishandri)",
      "userId": "02391373956068116885"
     }
    }
   },
   "outputs": [],
   "source": [
    "import numpy as np"
   ]
  },
  {
   "cell_type": "markdown",
   "metadata": {
    "id": "8_EWzvpwwerN"
   },
   "source": [
    "Чтобы задать `numpy`-массив, достаточно задать обычный питоновский список `list`, а затем поместить его внутрь функции `np.array`:"
   ]
  },
  {
   "cell_type": "code",
   "execution_count": 2,
   "metadata": {
    "colab": {
     "base_uri": "https://localhost:8080/",
     "height": 0
    },
    "id": "wjL0SsPQwerO",
    "executionInfo": {
     "status": "ok",
     "timestamp": 1671442888794,
     "user_tz": -180,
     "elapsed": 15,
     "user": {
      "displayName": "misha ndri (mishandri)",
      "userId": "02391373956068116885"
     }
    },
    "outputId": "7557db10-286e-4c7f-c815-2ccf33c86e0a"
   },
   "outputs": [
    {
     "name": "stdout",
     "output_type": "stream",
     "text": [
      "[1 2 3]\n"
     ]
    }
   ],
   "source": [
    "a = np.array([1, 2, 3])\n",
    "\n",
    "print(a)"
   ]
  },
  {
   "cell_type": "markdown",
   "metadata": {
    "id": "j3Did0lRwerP"
   },
   "source": [
    "Внутрь этой функции можно подавать также питоновский кортеж `tuple`.\n",
    "\n",
    "Проверим, к какому типу относится массив `a`:"
   ]
  },
  {
   "cell_type": "code",
   "execution_count": 3,
   "metadata": {
    "colab": {
     "base_uri": "https://localhost:8080/",
     "height": 0
    },
    "id": "U7fCpc4wwerQ",
    "executionInfo": {
     "status": "ok",
     "timestamp": 1671443011502,
     "user_tz": -180,
     "elapsed": 624,
     "user": {
      "displayName": "misha ndri (mishandri)",
      "userId": "02391373956068116885"
     }
    },
    "outputId": "61dce5ad-380a-43ab-a316-a104e180a8a5"
   },
   "outputs": [
    {
     "data": {
      "text/plain": "numpy.ndarray"
     },
     "execution_count": 3,
     "metadata": {},
     "output_type": "execute_result"
    }
   ],
   "source": [
    "type(a)"
   ]
  },
  {
   "cell_type": "markdown",
   "metadata": {
    "id": "jKDmlddiwerR"
   },
   "source": [
    "`ndarray` - сокращение от $n$-dimensional array ($n$-мерный массив).\n",
    "\n",
    "В отличие от стандартных питоновских структур данных, в `numpy` массивы предпочитают данные одного типа. Например, если функция `np.array` вызывается от списка, содержащего как целые (`int`), так и дробные (`float`) значения, то в результирующем массиве все значения будут приведены к типу `float`. Аналогично, если в подаваемом списке есть хотя бы одна строка `str`, то в соответствующем массиве все значения будут приведены к типу `str`. Если мы хотим задать свой тип, к которому нужно привести данные, это можно сделать с помощью аргумента `dtype`:"
   ]
  },
  {
   "cell_type": "code",
   "execution_count": 4,
   "metadata": {
    "colab": {
     "base_uri": "https://localhost:8080/",
     "height": 0
    },
    "id": "VH7crDwFwerS",
    "executionInfo": {
     "status": "ok",
     "timestamp": 1671443057821,
     "user_tz": -180,
     "elapsed": 425,
     "user": {
      "displayName": "misha ndri (mishandri)",
      "userId": "02391373956068116885"
     }
    },
    "outputId": "424db1a8-e2f8-4a76-834b-d2952ee66989"
   },
   "outputs": [
    {
     "name": "stdout",
     "output_type": "stream",
     "text": [
      "['1' '2' '3.6']\n"
     ]
    }
   ],
   "source": [
    "a = np.array([1, 2, 3.6], dtype=str)\n",
    "\n",
    "print(a)"
   ]
  },
  {
   "cell_type": "markdown",
   "metadata": {
    "id": "XcDMGlyNwerT"
   },
   "source": [
    "Получить конкретный элемент массива можно теми же способами, что и в стандартных питоновских структурах данных - с помощью квадратных скобок. В `numpy`, как и во всём питоне, индексация начинается с нуля. Например, получить второй элемент из массива `a` (т.е. элемент с индексом $1$) можно так:"
   ]
  },
  {
   "cell_type": "code",
   "execution_count": 5,
   "metadata": {
    "colab": {
     "base_uri": "https://localhost:8080/",
     "height": 35
    },
    "id": "Fuja4ffZwerU",
    "executionInfo": {
     "status": "ok",
     "timestamp": 1671443066515,
     "user_tz": -180,
     "elapsed": 431,
     "user": {
      "displayName": "misha ndri (mishandri)",
      "userId": "02391373956068116885"
     }
    },
    "outputId": "ecc4e768-4249-4cee-8533-0c898bbc4cfe"
   },
   "outputs": [
    {
     "data": {
      "text/plain": "'2'"
     },
     "execution_count": 5,
     "metadata": {},
     "output_type": "execute_result"
    }
   ],
   "source": [
    "a[1]"
   ]
  },
  {
   "cell_type": "markdown",
   "metadata": {
    "id": "Fhl64ZNIwerW"
   },
   "source": [
    "Также в `numpy` массивах можно использовать отрицательную индексацию и делать срезы, как и в стандартных списках из питона:"
   ]
  },
  {
   "cell_type": "code",
   "execution_count": 6,
   "metadata": {
    "colab": {
     "base_uri": "https://localhost:8080/",
     "height": 35
    },
    "id": "wX41ARONwerW",
    "executionInfo": {
     "status": "ok",
     "timestamp": 1671443076281,
     "user_tz": -180,
     "elapsed": 530,
     "user": {
      "displayName": "misha ndri (mishandri)",
      "userId": "02391373956068116885"
     }
    },
    "outputId": "2877cdd2-5f99-400b-95ee-be74bc073f55"
   },
   "outputs": [
    {
     "data": {
      "text/plain": "'3.6'"
     },
     "execution_count": 6,
     "metadata": {},
     "output_type": "execute_result"
    }
   ],
   "source": [
    "a[-1]"
   ]
  },
  {
   "cell_type": "code",
   "execution_count": 7,
   "metadata": {
    "colab": {
     "base_uri": "https://localhost:8080/",
     "height": 0
    },
    "id": "oI9BJQw6werX",
    "executionInfo": {
     "status": "ok",
     "timestamp": 1671443128343,
     "user_tz": -180,
     "elapsed": 680,
     "user": {
      "displayName": "misha ndri (mishandri)",
      "userId": "02391373956068116885"
     }
    },
    "outputId": "b49bf6ee-4224-40bf-baf3-5b54a05d6d41"
   },
   "outputs": [
    {
     "data": {
      "text/plain": "array(['2', '3.6'], dtype='<U3')"
     },
     "execution_count": 7,
     "metadata": {},
     "output_type": "execute_result"
    }
   ],
   "source": [
    "a[1:3]"
   ]
  },
  {
   "cell_type": "markdown",
   "metadata": {
    "id": "gMklRiA_werX"
   },
   "source": [
    "### Двумерные массивы\n",
    "\n",
    "Пока что мы работали лишь с одномерными массивами. Также в `numpy` можно задать и многомерные массивы. Например, двумерный массив - это массив, каждый элемент из которого - это снова массив.\n",
    "\n",
    "Для `numpy`-массива `a` можно проверить его размерность с помощью атрибута `ndim` и форму с помощью атрибута `shape`:"
   ]
  },
  {
   "cell_type": "code",
   "execution_count": 8,
   "metadata": {
    "colab": {
     "base_uri": "https://localhost:8080/",
     "height": 0
    },
    "id": "jn2p6l3OwerY",
    "executionInfo": {
     "status": "ok",
     "timestamp": 1671443145786,
     "user_tz": -180,
     "elapsed": 1152,
     "user": {
      "displayName": "misha ndri (mishandri)",
      "userId": "02391373956068116885"
     }
    },
    "outputId": "275a1a6a-4924-47fd-ae2f-257c76afe3e8"
   },
   "outputs": [
    {
     "name": "stdout",
     "output_type": "stream",
     "text": [
      "Размерность a: 1\n",
      "Форма a: (3,)\n"
     ]
    }
   ],
   "source": [
    "print(\"Размерность a: {}\".format(a.ndim))\n",
    "\n",
    "print(\"Форма a: {}\".format(a.shape))"
   ]
  },
  {
   "cell_type": "markdown",
   "metadata": {
    "id": "DSPdOtGWwerY"
   },
   "source": [
    "В этом случае размерность равна $1$, а `shape` возвращает кортеж из одного элемента. Зададим теперь двумерный массив:"
   ]
  },
  {
   "cell_type": "code",
   "execution_count": 9,
   "metadata": {
    "colab": {
     "base_uri": "https://localhost:8080/",
     "height": 0
    },
    "id": "IszOgqFRGexN",
    "executionInfo": {
     "status": "ok",
     "timestamp": 1671443231447,
     "user_tz": -180,
     "elapsed": 641,
     "user": {
      "displayName": "misha ndri (mishandri)",
      "userId": "02391373956068116885"
     }
    },
    "outputId": "0234061c-0abb-4641-af0e-533e00a6cf0e"
   },
   "outputs": [
    {
     "name": "stdout",
     "output_type": "stream",
     "text": [
      "[[1 2 3 1]\n",
      " [4 5 6 4]\n",
      " [7 8 9 7]]\n",
      "Размерность A: 2\n",
      "Форма A: (3, 4)\n"
     ]
    }
   ],
   "source": [
    "A = np.array([[1, 2, 3, 1], \n",
    "              [4, 5, 6, 4], \n",
    "              [7, 8, 9, 7]])\n",
    "\n",
    "print(A)\n",
    "\n",
    "print(\"Размерность A: {}\".format(A.ndim))\n",
    "\n",
    "print(\"Форма A: {}\".format(A.shape))"
   ]
  },
  {
   "cell_type": "markdown",
   "metadata": {
    "id": "PpgZ6sz8werZ"
   },
   "source": [
    "Атрибут `shape` - это всегда кортеж, размер которого равен размерности массива. Каждый элемент этого кортежа - это размер в каждом измерении. Например, у нашей матрицы $A$, судя по этому атрибуту, $3$ строки и $4$ столбца.\n",
    "\n",
    "С помощью атрибута `size` можно увидеть общее количество элементов массива:"
   ]
  },
  {
   "cell_type": "code",
   "execution_count": 10,
   "metadata": {
    "colab": {
     "base_uri": "https://localhost:8080/",
     "height": 0
    },
    "id": "I-wUaIIJwera",
    "executionInfo": {
     "status": "ok",
     "timestamp": 1671443253200,
     "user_tz": -180,
     "elapsed": 514,
     "user": {
      "displayName": "misha ndri (mishandri)",
      "userId": "02391373956068116885"
     }
    },
    "outputId": "80fe4117-b70b-44da-d272-e101d7cc2a0b"
   },
   "outputs": [
    {
     "data": {
      "text/plain": "12"
     },
     "execution_count": 10,
     "metadata": {},
     "output_type": "execute_result"
    }
   ],
   "source": [
    "A.size"
   ]
  },
  {
   "cell_type": "markdown",
   "metadata": {
    "id": "ocwwkf1lwerb"
   },
   "source": [
    "В случае вложенных друг в друга стандартных питоновских списков `list`, чтобы получить конкретный элемент массива, нужно использовать несколько пар квадратных скобок: `A[0][0]`. В `numpy` массивы также поддерживают такую запись, однако, здесь есть и более удобный вариант - просто писать индексы через запятую:"
   ]
  },
  {
   "cell_type": "code",
   "execution_count": 11,
   "metadata": {
    "colab": {
     "base_uri": "https://localhost:8080/",
     "height": 0
    },
    "id": "nWVVZgPfwerb",
    "executionInfo": {
     "status": "ok",
     "timestamp": 1671443276807,
     "user_tz": -180,
     "elapsed": 391,
     "user": {
      "displayName": "misha ndri (mishandri)",
      "userId": "02391373956068116885"
     }
    },
    "outputId": "0b83df8e-b819-4952-c402-b454ae1b0062"
   },
   "outputs": [
    {
     "data": {
      "text/plain": "1"
     },
     "execution_count": 11,
     "metadata": {},
     "output_type": "execute_result"
    }
   ],
   "source": [
    "A[0, 0]"
   ]
  },
  {
   "cell_type": "markdown",
   "metadata": {
    "id": "ccaQvNQIwerc"
   },
   "source": [
    "Это же работает и в случае отрицательной индексации и в случае срезов:"
   ]
  },
  {
   "cell_type": "code",
   "execution_count": 12,
   "metadata": {
    "colab": {
     "base_uri": "https://localhost:8080/",
     "height": 0
    },
    "id": "-GDNuYaEwerd",
    "executionInfo": {
     "status": "ok",
     "timestamp": 1671443280630,
     "user_tz": -180,
     "elapsed": 639,
     "user": {
      "displayName": "misha ndri (mishandri)",
      "userId": "02391373956068116885"
     }
    },
    "outputId": "84854a5c-3841-4eaf-dd31-f11ffed54a4e"
   },
   "outputs": [
    {
     "data": {
      "text/plain": "9"
     },
     "execution_count": 12,
     "metadata": {},
     "output_type": "execute_result"
    }
   ],
   "source": [
    "A[-1, -2]"
   ]
  },
  {
   "cell_type": "code",
   "execution_count": 13,
   "metadata": {
    "colab": {
     "base_uri": "https://localhost:8080/",
     "height": 0
    },
    "id": "iJ4usFTvwere",
    "executionInfo": {
     "status": "ok",
     "timestamp": 1671443292771,
     "user_tz": -180,
     "elapsed": 470,
     "user": {
      "displayName": "misha ndri (mishandri)",
      "userId": "02391373956068116885"
     }
    },
    "outputId": "19e8bbcf-a9e0-4c7d-a810-8b51146fc57b"
   },
   "outputs": [
    {
     "data": {
      "text/plain": "array([[4, 5, 6],\n       [7, 8, 9]])"
     },
     "execution_count": 13,
     "metadata": {},
     "output_type": "execute_result"
    }
   ],
   "source": [
    "A[1:, :3]"
   ]
  },
  {
   "cell_type": "markdown",
   "metadata": {
    "id": "yW6ElSoDwerf"
   },
   "source": [
    "В случае срезов для `numpy`-массивов важно отметить, что, записывая срез `numpy`-массива, мы ничего нового не создаём, мы лишь получаем _представление_ (_view_) - ссылку на какие-то отдельные элементы оригинального массива. Это означает, что если мы \"создали\" срез из `numpy`-массива, а затем поменяли в нём что-то - эти изменения коснутся и оригинального массива:"
   ]
  },
  {
   "cell_type": "code",
   "execution_count": 14,
   "metadata": {
    "colab": {
     "base_uri": "https://localhost:8080/",
     "height": 0
    },
    "id": "glJA_59jwerf",
    "executionInfo": {
     "status": "ok",
     "timestamp": 1671443299856,
     "user_tz": -180,
     "elapsed": 396,
     "user": {
      "displayName": "misha ndri (mishandri)",
      "userId": "02391373956068116885"
     }
    },
    "outputId": "7bb09d19-cc62-43a3-b9f6-30925356c63d"
   },
   "outputs": [
    {
     "name": "stdout",
     "output_type": "stream",
     "text": [
      "[[1 2 3 1]\n",
      " [4 5 6 4]\n",
      " [7 8 9 7]]\n"
     ]
    }
   ],
   "source": [
    "print(A)"
   ]
  },
  {
   "cell_type": "code",
   "execution_count": 15,
   "metadata": {
    "colab": {
     "base_uri": "https://localhost:8080/",
     "height": 0
    },
    "id": "SRiQaVPxwerh",
    "executionInfo": {
     "status": "ok",
     "timestamp": 1671443303719,
     "user_tz": -180,
     "elapsed": 654,
     "user": {
      "displayName": "misha ndri (mishandri)",
      "userId": "02391373956068116885"
     }
    },
    "outputId": "0923ffe9-69cd-4b5d-aba8-309190345b88"
   },
   "outputs": [
    {
     "name": "stdout",
     "output_type": "stream",
     "text": [
      "[[4 5 6]\n",
      " [7 8 9]]\n"
     ]
    }
   ],
   "source": [
    "B = A[1:, :3]\n",
    "\n",
    "print(B)"
   ]
  },
  {
   "cell_type": "code",
   "execution_count": 16,
   "metadata": {
    "colab": {
     "base_uri": "https://localhost:8080/",
     "height": 0
    },
    "id": "vDn3QGlbweri",
    "executionInfo": {
     "status": "ok",
     "timestamp": 1671443421849,
     "user_tz": -180,
     "elapsed": 372,
     "user": {
      "displayName": "misha ndri (mishandri)",
      "userId": "02391373956068116885"
     }
    },
    "outputId": "3417a394-2af8-41b6-d667-3960b50b826f"
   },
   "outputs": [
    {
     "name": "stdout",
     "output_type": "stream",
     "text": [
      "[[ 1  2  3  1]\n",
      " [-4  5  6  4]\n",
      " [ 7  8  9  7]]\n"
     ]
    }
   ],
   "source": [
    "B[0, 0] = -4\n",
    "\n",
    "print(A)"
   ]
  },
  {
   "cell_type": "markdown",
   "metadata": {
    "id": "zUCugZADweri"
   },
   "source": [
    "Наоборот, если мы меняем значения в оригинальном массиве, они коснутся и всех его представлений, в которых используются эти значения:"
   ]
  },
  {
   "cell_type": "code",
   "execution_count": 17,
   "metadata": {
    "colab": {
     "base_uri": "https://localhost:8080/",
     "height": 0
    },
    "id": "DTUpXt-4weri",
    "executionInfo": {
     "status": "ok",
     "timestamp": 1671445011435,
     "user_tz": -180,
     "elapsed": 388,
     "user": {
      "displayName": "misha ndri (mishandri)",
      "userId": "02391373956068116885"
     }
    },
    "outputId": "7723987f-fa59-4dcc-deb3-27366d56dd6f"
   },
   "outputs": [
    {
     "name": "stdout",
     "output_type": "stream",
     "text": [
      "[[-4  5  6]\n",
      " [-7  8  9]]\n"
     ]
    }
   ],
   "source": [
    "A[2, 0] = -7\n",
    "\n",
    "print(B)"
   ]
  },
  {
   "cell_type": "code",
   "execution_count": 18,
   "metadata": {
    "id": "zkn41Q-uGexs",
    "executionInfo": {
     "status": "ok",
     "timestamp": 1671445013449,
     "user_tz": -180,
     "elapsed": 367,
     "user": {
      "displayName": "misha ndri (mishandri)",
      "userId": "02391373956068116885"
     }
    }
   },
   "outputs": [],
   "source": [
    "b = np.array([[3], \n",
    "     [1], \n",
    "     [2]])"
   ]
  },
  {
   "cell_type": "markdown",
   "metadata": {
    "id": "PYKL3OOmwerj"
   },
   "source": [
    "Если мы хотим всего этого избежать и создать действительно новый массив, нужно использовать метод `copy`:"
   ]
  },
  {
   "cell_type": "code",
   "execution_count": 19,
   "metadata": {
    "colab": {
     "base_uri": "https://localhost:8080/",
     "height": 0
    },
    "id": "qcinF7owwerj",
    "executionInfo": {
     "status": "ok",
     "timestamp": 1671445018834,
     "user_tz": -180,
     "elapsed": 385,
     "user": {
      "displayName": "misha ndri (mishandri)",
      "userId": "02391373956068116885"
     }
    },
    "outputId": "afcb5f5d-afff-446b-9ed5-b69d15a9c2bb"
   },
   "outputs": [
    {
     "name": "stdout",
     "output_type": "stream",
     "text": [
      "[[6 4]\n",
      " [9 7]]\n"
     ]
    }
   ],
   "source": [
    "C = A[1:3, 2:4].copy()\n",
    "\n",
    "print(C)"
   ]
  },
  {
   "cell_type": "code",
   "execution_count": 20,
   "metadata": {
    "colab": {
     "base_uri": "https://localhost:8080/",
     "height": 0
    },
    "id": "XfBZ2fKswerk",
    "executionInfo": {
     "status": "ok",
     "timestamp": 1671445023327,
     "user_tz": -180,
     "elapsed": 696,
     "user": {
      "displayName": "misha ndri (mishandri)",
      "userId": "02391373956068116885"
     }
    },
    "outputId": "6f269c47-7f2f-41c2-a422-417b0f61111c"
   },
   "outputs": [
    {
     "name": "stdout",
     "output_type": "stream",
     "text": [
      "[[ 1  2  3  1]\n",
      " [-4  5  6  4]\n",
      " [-7  8  9  7]]\n"
     ]
    }
   ],
   "source": [
    "C[0, 0] = -6\n",
    "\n",
    "print(A)"
   ]
  },
  {
   "cell_type": "markdown",
   "metadata": {
    "id": "GSHLqNuKwerk"
   },
   "source": [
    "### Типы данных в NumPy\n",
    "\n",
    "Самыми распространёнными типами в `numpy` являются два целочисленных типа: `np.int32` и `np.int64` и два дробных типа: `np.float32` и `np.float64`. Они применяются для, соответственно, $32$-битных и $64$-битных чисел. Последние требуют вдвое больше памяти, чем первые, однако, если вы знаете, что в вашем массиве, например, используются целые числа, которые по модулю больше, чем $2 \\cdot 10^9$, то стоит использовать `np.int64`."
   ]
  },
  {
   "cell_type": "markdown",
   "metadata": {
    "id": "i17u-GdYwerk"
   },
   "source": [
    "## Применение NumPy в линейной алгебре\n",
    "\n",
    "### Векторы\n",
    "\n",
    "Для начала разберёмся с тем, как с помощью `numpy` работать с векторами. Зададим несколько векторов:"
   ]
  },
  {
   "cell_type": "code",
   "execution_count": 21,
   "metadata": {
    "id": "MqYZROiKwerl",
    "executionInfo": {
     "status": "ok",
     "timestamp": 1671445162124,
     "user_tz": -180,
     "elapsed": 366,
     "user": {
      "displayName": "misha ndri (mishandri)",
      "userId": "02391373956068116885"
     }
    }
   },
   "outputs": [],
   "source": [
    "a = np.array([0, 1, 2, 3, 4])\n",
    "b = np.array([5, 6, 7, 8, 9])"
   ]
  },
  {
   "cell_type": "markdown",
   "metadata": {
    "id": "0Vmg-K4Iwerl"
   },
   "source": [
    "Сейчас мы ограничимся случаем, когда все векторы имеют одинаковый размер.\n",
    "\n",
    "Сложение векторов можно выполнять, просто складывая массивы. Отметим, что это поведение отличается от сложения обычных питоновских списков `list`: списки в таком случае просто склеиваются в один."
   ]
  },
  {
   "cell_type": "code",
   "execution_count": 22,
   "metadata": {
    "colab": {
     "base_uri": "https://localhost:8080/"
    },
    "id": "azDpz0Nuwerl",
    "executionInfo": {
     "status": "ok",
     "timestamp": 1671445165604,
     "user_tz": -180,
     "elapsed": 534,
     "user": {
      "displayName": "misha ndri (mishandri)",
      "userId": "02391373956068116885"
     }
    },
    "outputId": "11798bb6-7656-4384-ea61-b21296d86dea"
   },
   "outputs": [
    {
     "name": "stdout",
     "output_type": "stream",
     "text": [
      "[0, 1, 2, 3, 4, 5, 6, 7, 8, 9]\n"
     ]
    }
   ],
   "source": [
    "a_ = [0, 1, 2, 3, 4]\n",
    "b_ = [5, 6, 7, 8, 9]\n",
    "\n",
    "c_ = a_ + b_\n",
    "\n",
    "print(c_)"
   ]
  },
  {
   "cell_type": "markdown",
   "metadata": {
    "id": "KlnxLNaiwerm"
   },
   "source": [
    "В `numpy` же массивы в результате такой операции складываются поэлементно:"
   ]
  },
  {
   "cell_type": "code",
   "execution_count": 23,
   "metadata": {
    "id": "01omRSEewerm",
    "outputId": "27ccebf9-edca-4176-f190-c8acc411aeb9"
   },
   "outputs": [
    {
     "name": "stdout",
     "output_type": "stream",
     "text": [
      "[ 5  7  9 11 13]\n"
     ]
    }
   ],
   "source": [
    "c = a + b\n",
    "\n",
    "print(c)"
   ]
  },
  {
   "cell_type": "markdown",
   "metadata": {
    "id": "INE4H9SEwerm"
   },
   "source": [
    "Также массивы `numpy` можно складывать с помощью функции `np.add`:"
   ]
  },
  {
   "cell_type": "code",
   "execution_count": 24,
   "metadata": {
    "colab": {
     "base_uri": "https://localhost:8080/"
    },
    "id": "KQOoKML5werm",
    "executionInfo": {
     "status": "ok",
     "timestamp": 1671445296401,
     "user_tz": -180,
     "elapsed": 383,
     "user": {
      "displayName": "misha ndri (mishandri)",
      "userId": "02391373956068116885"
     }
    },
    "outputId": "1d63492b-a318-4ddd-ceae-b62990c9bd8d"
   },
   "outputs": [
    {
     "name": "stdout",
     "output_type": "stream",
     "text": [
      "[ 5  7  9 11 13]\n"
     ]
    }
   ],
   "source": [
    "c = np.add(a, b)\n",
    "\n",
    "print(c)"
   ]
  },
  {
   "cell_type": "markdown",
   "metadata": {
    "id": "xqDEUQMrwern"
   },
   "source": [
    "Аналогично, есть два способа вычитать векторы друг из друга:\n",
    "\n",
    "* `d = a - b`\n",
    "* `d = np.subtract(a, b)`"
   ]
  },
  {
   "cell_type": "markdown",
   "metadata": {
    "id": "K6q6dMHSwern"
   },
   "source": [
    "Для умножения вектора на скаляр также можно пользоваться достаточно естественной записью:"
   ]
  },
  {
   "cell_type": "code",
   "execution_count": 25,
   "metadata": {
    "colab": {
     "base_uri": "https://localhost:8080/"
    },
    "id": "MqHo6T0rwern",
    "executionInfo": {
     "status": "ok",
     "timestamp": 1671445304747,
     "user_tz": -180,
     "elapsed": 376,
     "user": {
      "displayName": "misha ndri (mishandri)",
      "userId": "02391373956068116885"
     }
    },
    "outputId": "0af04b0b-6831-4ca9-a41b-0d6f4465862d"
   },
   "outputs": [
    {
     "name": "stdout",
     "output_type": "stream",
     "text": [
      "[ 0  3  6  9 12]\n"
     ]
    }
   ],
   "source": [
    "e = a * 3\n",
    "\n",
    "print(e)"
   ]
  },
  {
   "cell_type": "markdown",
   "metadata": {
    "id": "ZmbpCUhYwero"
   },
   "source": [
    "При этом скаляр может быть каким угодно. При умножении на скаляр, каждая координата вектора умножается на этот скаляр.\n",
    "\n",
    "Это поведение тоже отличается от поведения питоновских списков `list` при умножении на число. Последние при этом дублируются заданное количество раз. Скаляр здесь, кроме того, может быть только положительным целым."
   ]
  },
  {
   "cell_type": "code",
   "execution_count": 26,
   "metadata": {
    "colab": {
     "base_uri": "https://localhost:8080/"
    },
    "id": "l7fDCnfowero",
    "executionInfo": {
     "status": "ok",
     "timestamp": 1671445334351,
     "user_tz": -180,
     "elapsed": 697,
     "user": {
      "displayName": "misha ndri (mishandri)",
      "userId": "02391373956068116885"
     }
    },
    "outputId": "db0ee653-e1c6-4394-df82-109104b7e3e6"
   },
   "outputs": [
    {
     "data": {
      "text/plain": "[1, 2, 3, 1, 2, 3, 1, 2, 3]"
     },
     "execution_count": 26,
     "metadata": {},
     "output_type": "execute_result"
    }
   ],
   "source": [
    "[1, 2, 3] * 3"
   ]
  },
  {
   "cell_type": "markdown",
   "metadata": {
    "id": "zH1s6Sz8wero"
   },
   "source": [
    "Вот ещё несколько способов умножить вектор на скаляр в `numpy`:\n",
    "\n",
    "* с помощью функции `np.multiply`: `e = np.multiply(a, 3)`\n",
    "* с помощью функции `np.dot`: `e = np.dot(a, 3)`\n",
    "* с помощью метода `a.dot`, который есть у любого `numpy`-массива: `e = a.dot(3)`"
   ]
  },
  {
   "cell_type": "markdown",
   "metadata": {
    "id": "hKkD0fEuwero"
   },
   "source": [
    "Функция `np.dot` (так же, как и метод `a.dot`), кроме того, может вычислять скалярное произведение векторов, а также произведение матриц (об этом чуть позже). \n",
    "\n",
    "Посчитаем скалярное произведение векторов `a` и `b`. Напомним, что чтобы вычислить скалярное произведение двух векторов, нужно попарно перемножить их координаты (первую с первой, вторую со второй и т.д.), а затем сложить результаты."
   ]
  },
  {
   "cell_type": "code",
   "execution_count": 27,
   "metadata": {
    "colab": {
     "base_uri": "https://localhost:8080/"
    },
    "id": "ivxmJoxYwerp",
    "executionInfo": {
     "status": "ok",
     "timestamp": 1671445375972,
     "user_tz": -180,
     "elapsed": 359,
     "user": {
      "displayName": "misha ndri (mishandri)",
      "userId": "02391373956068116885"
     }
    },
    "outputId": "a83e378e-0cfa-44f6-97fc-570a3de32fad"
   },
   "outputs": [
    {
     "name": "stdout",
     "output_type": "stream",
     "text": [
      "80\n"
     ]
    }
   ],
   "source": [
    "sp = a.dot(b)\n",
    "\n",
    "print(sp)"
   ]
  },
  {
   "cell_type": "markdown",
   "metadata": {
    "id": "cl2-8YqEwers"
   },
   "source": [
    "Также скалярное произведение векторов можно вычислять с помощью оператора `@`:"
   ]
  },
  {
   "cell_type": "code",
   "execution_count": 28,
   "metadata": {
    "colab": {
     "base_uri": "https://localhost:8080/"
    },
    "id": "Nd2oCWM2wert",
    "executionInfo": {
     "status": "ok",
     "timestamp": 1671445382243,
     "user_tz": -180,
     "elapsed": 452,
     "user": {
      "displayName": "misha ndri (mishandri)",
      "userId": "02391373956068116885"
     }
    },
    "outputId": "8bf06a98-22c9-4ad7-d509-1893ecf04fcc"
   },
   "outputs": [
    {
     "name": "stdout",
     "output_type": "stream",
     "text": [
      "80\n"
     ]
    }
   ],
   "source": [
    "sp = a @ b\n",
    "\n",
    "print(sp)"
   ]
  },
  {
   "cell_type": "markdown",
   "metadata": {
    "id": "fuE56Igbwert"
   },
   "source": [
    "### Матрицы\n",
    "\n",
    "Разберёмся теперь, как в `numpy` работать с матрицами. Зададим пару матриц:"
   ]
  },
  {
   "cell_type": "code",
   "execution_count": 29,
   "metadata": {
    "id": "JaaGVlGNweru",
    "executionInfo": {
     "status": "ok",
     "timestamp": 1671445451837,
     "user_tz": -180,
     "elapsed": 405,
     "user": {
      "displayName": "misha ndri (mishandri)",
      "userId": "02391373956068116885"
     }
    }
   },
   "outputs": [],
   "source": [
    "A = np.array([[0, 1],\n",
    "              [2, 3],\n",
    "              [4, 5]])\n",
    "\n",
    "B = np.array([[6, 7],\n",
    "              [8, 9],\n",
    "              [10, 11]])"
   ]
  },
  {
   "cell_type": "markdown",
   "metadata": {
    "id": "BJTfLzTGweru"
   },
   "source": [
    "Матрицы одинакового размера можно складывать и вычитать. Как и с векторами, это можно делать с помощью операторов `+` и `-`, а также с помощью функций `np.add` и `np.subtract`."
   ]
  },
  {
   "cell_type": "code",
   "execution_count": 30,
   "metadata": {
    "colab": {
     "base_uri": "https://localhost:8080/"
    },
    "id": "LolAvxc_werv",
    "executionInfo": {
     "status": "ok",
     "timestamp": 1671445461539,
     "user_tz": -180,
     "elapsed": 28,
     "user": {
      "displayName": "misha ndri (mishandri)",
      "userId": "02391373956068116885"
     }
    },
    "outputId": "f7105960-3842-4c9a-edad-9795c74b435a"
   },
   "outputs": [
    {
     "name": "stdout",
     "output_type": "stream",
     "text": [
      "[[ 6  8]\n",
      " [10 12]\n",
      " [14 16]]\n"
     ]
    }
   ],
   "source": [
    "C = A + B\n",
    "\n",
    "print(C)"
   ]
  },
  {
   "cell_type": "code",
   "execution_count": 31,
   "metadata": {
    "colab": {
     "base_uri": "https://localhost:8080/"
    },
    "id": "CMpvwwrmwerw",
    "executionInfo": {
     "status": "ok",
     "timestamp": 1671445472954,
     "user_tz": -180,
     "elapsed": 387,
     "user": {
      "displayName": "misha ndri (mishandri)",
      "userId": "02391373956068116885"
     }
    },
    "outputId": "2c220d68-374c-42cf-e47f-11956dd19044"
   },
   "outputs": [
    {
     "name": "stdout",
     "output_type": "stream",
     "text": [
      "[[-6 -6]\n",
      " [-6 -6]\n",
      " [-6 -6]]\n"
     ]
    }
   ],
   "source": [
    "D = A - B\n",
    "\n",
    "print(D)"
   ]
  },
  {
   "cell_type": "markdown",
   "metadata": {
    "id": "BhnZPPmqwerw"
   },
   "source": [
    "Матрицу любого размера можно умножать на скаляр. Делается это так же, как и в случае векторов:"
   ]
  },
  {
   "cell_type": "code",
   "execution_count": 32,
   "metadata": {
    "colab": {
     "base_uri": "https://localhost:8080/"
    },
    "id": "WORT-AWewerw",
    "executionInfo": {
     "status": "ok",
     "timestamp": 1671445499039,
     "user_tz": -180,
     "elapsed": 413,
     "user": {
      "displayName": "misha ndri (mishandri)",
      "userId": "02391373956068116885"
     }
    },
    "outputId": "9a826712-cadf-4f66-faca-de0c6b0ea9b6"
   },
   "outputs": [
    {
     "name": "stdout",
     "output_type": "stream",
     "text": [
      "[[ 0  3]\n",
      " [ 6  9]\n",
      " [12 15]]\n"
     ]
    }
   ],
   "source": [
    "E = A * 3\n",
    "\n",
    "print(E)"
   ]
  },
  {
   "cell_type": "markdown",
   "metadata": {
    "id": "HISdWojNwerx"
   },
   "source": [
    "### Умножение матриц\n",
    "\n",
    "Матрицы $A$ и $B$ можно умножить друг на друга, если _число столбцов_ первой матрицы равняется _числу строк_ второй матрицы. То есть если $A$ - матрица размера $n \\times k$, то матрица $B$ должна иметь размер $k \\times m$ для некоторого $m$.\n",
    "\n",
    "В таком случае результатом умножения будет матрица $C$ размера $n \\times m$ (т.е. у неё будет строк как у первой матрицы, а столбцов - как у второй).\n",
    "\n",
    "Рассмотрим простейший случай: умножение строки (матрицы размера $1 \\times k$) на столбец (матрицу размера $k \\times 1$). Как мы уже выяснили, в результате получится матрица размера $1 \\times 1$, т.е. число. Что это за число?\n",
    "\n",
    "Чтобы посчитать это число, нужно элементы из строки и столбца попарно перемножить (первый с первым, второй со вторым и т.д.), а затем сложить результаты. Это очень похоже на скалярное произведение векторов.\n",
    "\n",
    "Например, \n",
    "\n",
    "$$\n",
    "\\left(\n",
    "\\begin{matrix}\n",
    "    1 & 2 & 3\n",
    "\\end{matrix}\n",
    "\\right)\n",
    "\\cdot\n",
    "\\left(\n",
    "\\begin{matrix}\n",
    "    1 \\\\\n",
    "    0 \\\\\n",
    "    -1\n",
    "\\end{matrix}\n",
    "\\right)\n",
    "= 1 \\cdot 1 + 2 \\cdot 0 + 3 \\cdot (-1)\n",
    "= -2.\n",
    "$$\n",
    "\n",
    "Вернёмся к общему случаю - умножению матрицы размера $n \\times k$ на матрицу размера $k \\times m$. Мы уже поняли, что это будет матрица размера $n \\times m$. Как \"заполнить\" эту матрицу?\n",
    "\n",
    "Чтобы получить число, стоящее в этой матрице на позиции $(i, j)$, нужно умножить $i$-ю строку первой матрицы на $j$-й столбец второй матрицы (так, как мы это делали выше).\n",
    "\n",
    "Например,\n",
    "\n",
    "$$\n",
    "\\left(\n",
    "\\begin{matrix}\n",
    "    1 & 0 & -1 \\\\\n",
    "    3 & 5 & -4 \n",
    "\\end{matrix}\n",
    "\\right)\n",
    "\\cdot\n",
    "\\left(\n",
    "\\begin{matrix}\n",
    "    1 & 2 & 3 \\\\\n",
    "    4 & 5 & 6 \\\\\n",
    "    7 & 8 & 9\n",
    "\\end{matrix}\n",
    "\\right)\n",
    "=\n",
    "\\left(\n",
    "\\begin{matrix}\n",
    "    1 \\cdot 1 + 0 \\cdot 4 + (-1) \\cdot 7 & 1 \\cdot 2 + 0 \\cdot 5 + (-1) \\cdot 8 & 1 \\cdot 3 + 0 \\cdot 6 + (-1) \\cdot 9 \\\\\n",
    "    3 \\cdot 1 + 5 \\cdot 4 + (-4) \\cdot 7 & 3 \\cdot 2 + 5 \\cdot 5 + (-4) \\cdot 8 & 3 \\cdot 3 + 5 \\cdot 6 + (-4) \\cdot 9\n",
    "\\end{matrix}\n",
    "\\right)\n",
    "=\n",
    "$$\n",
    "\n",
    "$$\n",
    "=\n",
    "\\left(\n",
    "\\begin{matrix}\n",
    "    -6 & -6 & -6 \\\\\n",
    "    -5 & -1 & 3\n",
    "\\end{matrix}\n",
    "\\right).\n",
    "$$"
   ]
  },
  {
   "cell_type": "markdown",
   "metadata": {
    "id": "4NBa8IICwery"
   },
   "source": [
    "Чтобы выполнять умножение матриц в библиотеке `numpy`, будем пользоваться уже знакомой функцией `np.dot`, либо методом `A.dot`:"
   ]
  },
  {
   "cell_type": "code",
   "execution_count": 33,
   "metadata": {
    "colab": {
     "base_uri": "https://localhost:8080/"
    },
    "id": "jXQT3KwBwer1",
    "executionInfo": {
     "status": "ok",
     "timestamp": 1671445603013,
     "user_tz": -180,
     "elapsed": 656,
     "user": {
      "displayName": "misha ndri (mishandri)",
      "userId": "02391373956068116885"
     }
    },
    "outputId": "9fb5d4e3-df6d-4ae0-85c8-2352ac22cf14"
   },
   "outputs": [
    {
     "name": "stdout",
     "output_type": "stream",
     "text": [
      "[[-6 -6 -6]\n",
      " [-5 -1  3]]\n"
     ]
    }
   ],
   "source": [
    "A = np.array([[1, 0, -1],\n",
    "              [3, 5, -4]])\n",
    "\n",
    "B = np.array([[1, 2, 3],\n",
    "              [4, 5, 6],\n",
    "              [7, 8, 9]])\n",
    "\n",
    "C = A.dot(B)\n",
    "\n",
    "print(C)"
   ]
  },
  {
   "cell_type": "markdown",
   "metadata": {
    "id": "mkva51Rcwer2"
   },
   "source": [
    "Если перемножаемые матрицы являются квадратными, то результат их умножения будет снова квадратной матрицей, причём, того же размера. Это означает, что квадратную матрицу можно возводить в степень. В `numpy` это можно делать с помощью функции `matrix_power` из модуля `numpy.linalg`:"
   ]
  },
  {
   "cell_type": "code",
   "execution_count": 34,
   "metadata": {
    "colab": {
     "base_uri": "https://localhost:8080/"
    },
    "id": "fMEUmyohwer2",
    "executionInfo": {
     "status": "ok",
     "timestamp": 1671445612358,
     "user_tz": -180,
     "elapsed": 385,
     "user": {
      "displayName": "misha ndri (mishandri)",
      "userId": "02391373956068116885"
     }
    },
    "outputId": "875a1e3d-87ab-4c54-a2cf-31b03d578c29"
   },
   "outputs": [
    {
     "name": "stdout",
     "output_type": "stream",
     "text": [
      "[[ 468  576  684]\n",
      " [1062 1305 1548]\n",
      " [1656 2034 2412]]\n"
     ]
    }
   ],
   "source": [
    "D = np.linalg.matrix_power(B, 3)\n",
    "\n",
    "print(D)"
   ]
  },
  {
   "cell_type": "markdown",
   "metadata": {
    "id": "OdAsEJoBwer2"
   },
   "source": [
    "### Единичная и транспонированная матрица\n",
    "\n",
    "_Единичной матрицей_ называется квадратная матрица, у которого на главной диагонали стоят $1$, а в остальных местах - $0$. (Под _главной диагональю_ мы понимаем диагональ матрицы, которая начинается в левом верхнем углу и заканчивается в правом нижнем.) Единичную матрицу можно задать с помощью функции `np.eye`:"
   ]
  },
  {
   "cell_type": "code",
   "execution_count": 35,
   "metadata": {
    "colab": {
     "base_uri": "https://localhost:8080/"
    },
    "id": "MPu9j9Wgwer3",
    "executionInfo": {
     "status": "ok",
     "timestamp": 1671445657851,
     "user_tz": -180,
     "elapsed": 347,
     "user": {
      "displayName": "misha ndri (mishandri)",
      "userId": "02391373956068116885"
     }
    },
    "outputId": "1ed0ec7b-129a-422e-e0ed-9655918c3853"
   },
   "outputs": [
    {
     "name": "stdout",
     "output_type": "stream",
     "text": [
      "[[1. 0. 0.]\n",
      " [0. 1. 0.]\n",
      " [0. 0. 1.]]\n"
     ]
    }
   ],
   "source": [
    "I = np.eye(3)\n",
    "\n",
    "print(I)"
   ]
  },
  {
   "cell_type": "markdown",
   "metadata": {
    "id": "9dXYpiSxwer3"
   },
   "source": [
    "При умножении любой матрицы на единичную матрицу подходящего размера, результатом будет та же самая матрица:"
   ]
  },
  {
   "cell_type": "code",
   "execution_count": 36,
   "metadata": {
    "colab": {
     "base_uri": "https://localhost:8080/"
    },
    "id": "bgrUhu5Gwer3",
    "executionInfo": {
     "status": "ok",
     "timestamp": 1671445763886,
     "user_tz": -180,
     "elapsed": 652,
     "user": {
      "displayName": "misha ndri (mishandri)",
      "userId": "02391373956068116885"
     }
    },
    "outputId": "50888c6f-c154-4cd4-e8c0-46d262581df1"
   },
   "outputs": [
    {
     "name": "stdout",
     "output_type": "stream",
     "text": [
      "[[ 1  0 -1]\n",
      " [ 3  5 -4]]\n"
     ]
    }
   ],
   "source": [
    "print(A)"
   ]
  },
  {
   "cell_type": "code",
   "execution_count": 37,
   "metadata": {
    "colab": {
     "base_uri": "https://localhost:8080/"
    },
    "id": "ra6obzcxwer4",
    "executionInfo": {
     "status": "ok",
     "timestamp": 1671445768635,
     "user_tz": -180,
     "elapsed": 881,
     "user": {
      "displayName": "misha ndri (mishandri)",
      "userId": "02391373956068116885"
     }
    },
    "outputId": "7e9dc9dd-b02f-4904-ed43-62bfa7ed53c5"
   },
   "outputs": [
    {
     "name": "stdout",
     "output_type": "stream",
     "text": [
      "[[ 1.  0. -1.]\n",
      " [ 3.  5. -4.]]\n"
     ]
    }
   ],
   "source": [
    "E = A.dot(I)\n",
    "\n",
    "print(E)"
   ]
  },
  {
   "cell_type": "markdown",
   "metadata": {
    "id": "p_WURHAWwer4"
   },
   "source": [
    "Пусть дана матрица $A$. _Транспонированной матрицей_ называется матрица $A^\\top$, полученная \"отражением\" матрицы $A$ относительно её главной диагонали. Другими словами, столбцы матрицы $A$ становятся строками матрицы $A^\\top$, а строки матрицы $A$ - столбцами матрицы $A^\\top$.\n",
    "\n",
    "Вот несколько способов посчитать транспонированную матрицу в `numpy`:\n",
    "\n",
    "* с помощью функции `np.transpose`: `A_t = np.transpose(A)`\n",
    "* с помощью метода `A.transpose`: `A_t = A.transpose()`\n",
    "* с помощью атрибута `A.T`: `A_t = A.T`"
   ]
  },
  {
   "cell_type": "code",
   "execution_count": 38,
   "metadata": {
    "colab": {
     "base_uri": "https://localhost:8080/"
    },
    "id": "DGLSFivBwer4",
    "executionInfo": {
     "status": "ok",
     "timestamp": 1671445844328,
     "user_tz": -180,
     "elapsed": 385,
     "user": {
      "displayName": "misha ndri (mishandri)",
      "userId": "02391373956068116885"
     }
    },
    "outputId": "0145316a-06a4-4471-cf93-9fdd5d91e5e1"
   },
   "outputs": [
    {
     "name": "stdout",
     "output_type": "stream",
     "text": [
      "[[ 1  3]\n",
      " [ 0  5]\n",
      " [-1 -4]]\n"
     ]
    }
   ],
   "source": [
    "A_t = A.T\n",
    "\n",
    "print(A_t)"
   ]
  },
  {
   "cell_type": "markdown",
   "metadata": {
    "id": "BrvzubDZwer5"
   },
   "source": [
    "### Определитель и ранг матрицы\n",
    "\n",
    "Если матрица квадратная, то мы можем посчитать её _определитель_. Определитель матрицы - это число, которое в каком-то смысле \"определяет\" её свойства. Например, обратную матрицу можно посчитать только для матрицы, определитель которой не равен $0$ (по аналогии с тем, что делить можно только на числа, не равные $0$).\n",
    "\n",
    "Посчитать определитель можно с помощью функции `det` из модуля `numpy.linalg`:"
   ]
  },
  {
   "cell_type": "code",
   "execution_count": 39,
   "metadata": {
    "colab": {
     "base_uri": "https://localhost:8080/"
    },
    "id": "JlZOHPcJwer5",
    "executionInfo": {
     "status": "ok",
     "timestamp": 1671445875058,
     "user_tz": -180,
     "elapsed": 459,
     "user": {
      "displayName": "misha ndri (mishandri)",
      "userId": "02391373956068116885"
     }
    },
    "outputId": "cb370838-0ca6-46d7-9ca2-f6d4db10c414"
   },
   "outputs": [
    {
     "name": "stdout",
     "output_type": "stream",
     "text": [
      "0.0\n"
     ]
    }
   ],
   "source": [
    "d = np.linalg.det(B)\n",
    "\n",
    "print(d)"
   ]
  },
  {
   "cell_type": "markdown",
   "metadata": {
    "id": "gwGiOZPBwer5"
   },
   "source": [
    "Также с помощью функции `matrix_rank` из модуля `numpy.linalg` можно посчитать _ранг_ матрицы. Ранг матрицы - это число линейно независимых строк данной матрицы."
   ]
  },
  {
   "cell_type": "code",
   "execution_count": 40,
   "metadata": {
    "colab": {
     "base_uri": "https://localhost:8080/"
    },
    "id": "rc7_5eGawer5",
    "executionInfo": {
     "status": "ok",
     "timestamp": 1671445930696,
     "user_tz": -180,
     "elapsed": 464,
     "user": {
      "displayName": "misha ndri (mishandri)",
      "userId": "02391373956068116885"
     }
    },
    "outputId": "0b9c6aa3-9a41-40c6-fa67-d8585ed7338c"
   },
   "outputs": [
    {
     "name": "stdout",
     "output_type": "stream",
     "text": [
      "2\n"
     ]
    }
   ],
   "source": [
    "r = np.linalg.matrix_rank(B)\n",
    "\n",
    "print(r)"
   ]
  },
  {
   "cell_type": "markdown",
   "metadata": {
    "id": "DaBhg7-ower6"
   },
   "source": [
    "Если матрица квадратная, то её ранг и определитель связаны следующим образом: определитель матрицы отличен от $0$ тогда и только тогда, когда все её строки являются линейно независимыми. Это, в свою очередь, означает, что её ранг равен её размеру.\n",
    "\n",
    "Например, ранг матрицы $B$ из примера выше равен $2$, при этом её размер равен $3$. Это значит, что не все её строки являются линейно независимыми, поэтому её определитель равен $0$.\n",
    "\n",
    "В отличие от определителя, ранг можно считать и для матрицы, которая не является квадратной. Посчитаем ранг матрицы $A$ размера $2 \\times 3$, определённой выше:"
   ]
  },
  {
   "cell_type": "code",
   "execution_count": 41,
   "metadata": {
    "colab": {
     "base_uri": "https://localhost:8080/"
    },
    "id": "YCoJBF2Cwer6",
    "executionInfo": {
     "status": "ok",
     "timestamp": 1671445997153,
     "user_tz": -180,
     "elapsed": 401,
     "user": {
      "displayName": "misha ndri (mishandri)",
      "userId": "02391373956068116885"
     }
    },
    "outputId": "ecbdf0d3-8437-4e00-d6ab-857fb4cf9f97"
   },
   "outputs": [
    {
     "name": "stdout",
     "output_type": "stream",
     "text": [
      "2\n"
     ]
    }
   ],
   "source": [
    "r1 = np.linalg.matrix_rank(A)\n",
    "\n",
    "print(r1)"
   ]
  },
  {
   "cell_type": "markdown",
   "metadata": {
    "id": "KY-J0Ml3wer6"
   },
   "source": [
    "Итак, если определитель квадратной матрицы не равен $0$, то мы можем посчитать для неё _обратную матрицу_. Это матрица, которая при умножении на исходную матрицу даёт единичную матрицу:\n",
    "\n",
    "$$A \\cdot A^{-1} = I$$\n",
    "\n",
    "Обратную матрицу можно посчитать с помощью функции `inv` из модуля `numpy.linalg`:"
   ]
  },
  {
   "cell_type": "code",
   "execution_count": 42,
   "metadata": {
    "colab": {
     "base_uri": "https://localhost:8080/"
    },
    "id": "SpEHQg2zwer7",
    "executionInfo": {
     "status": "ok",
     "timestamp": 1671446009798,
     "user_tz": -180,
     "elapsed": 435,
     "user": {
      "displayName": "misha ndri (mishandri)",
      "userId": "02391373956068116885"
     }
    },
    "outputId": "6a6b924b-61cb-4093-debc-82b831925913"
   },
   "outputs": [
    {
     "name": "stdout",
     "output_type": "stream",
     "text": [
      "85.99999999999989\n"
     ]
    }
   ],
   "source": [
    "F = np.array([[7, 4, 5],\n",
    "              [8, 3, 2],\n",
    "              [6, 10, 12]])\n",
    "\n",
    "print(np.linalg.det(F))"
   ]
  },
  {
   "cell_type": "code",
   "execution_count": 43,
   "metadata": {
    "colab": {
     "base_uri": "https://localhost:8080/"
    },
    "id": "EDv_lrw2wer7",
    "executionInfo": {
     "status": "ok",
     "timestamp": 1671446041909,
     "user_tz": -180,
     "elapsed": 408,
     "user": {
      "displayName": "misha ndri (mishandri)",
      "userId": "02391373956068116885"
     }
    },
    "outputId": "fdb5c0a3-7c8e-454f-9a40-091f469c4e7f"
   },
   "outputs": [
    {
     "name": "stdout",
     "output_type": "stream",
     "text": [
      "[[ 0.18604651  0.02325581 -0.08139535]\n",
      " [-0.97674419  0.62790698  0.30232558]\n",
      " [ 0.72093023 -0.53488372 -0.12790698]]\n"
     ]
    }
   ],
   "source": [
    "F_inv = np.linalg.inv(F)\n",
    "\n",
    "print(F_inv)"
   ]
  },
  {
   "cell_type": "markdown",
   "metadata": {
    "id": "RZnhriZvwer8"
   },
   "source": [
    "Проверим, что условие действительно выполняется:"
   ]
  },
  {
   "cell_type": "code",
   "execution_count": 44,
   "metadata": {
    "colab": {
     "base_uri": "https://localhost:8080/"
    },
    "id": "YEpbWRuFwer8",
    "executionInfo": {
     "status": "ok",
     "timestamp": 1671446045581,
     "user_tz": -180,
     "elapsed": 367,
     "user": {
      "displayName": "misha ndri (mishandri)",
      "userId": "02391373956068116885"
     }
    },
    "outputId": "22b71cf7-b9f6-4886-f9ec-dbe06690ba27"
   },
   "outputs": [
    {
     "name": "stdout",
     "output_type": "stream",
     "text": [
      "[[ 1.00000000e+00 -5.55111512e-16 -2.77555756e-17]\n",
      " [ 2.22044605e-16  1.00000000e+00  0.00000000e+00]\n",
      " [ 8.88178420e-16 -4.44089210e-16  1.00000000e+00]]\n"
     ]
    }
   ],
   "source": [
    "print(F.dot(F_inv))"
   ]
  },
  {
   "cell_type": "markdown",
   "metadata": {
    "id": "1qY7ZtPswer9"
   },
   "source": [
    "Если определитель матрицы $A$ равен $d$, то определитель обратной матрицы всегда будет равен $1/d$. Именно поэтому матрицы с определителем, равным $0$, обращать нельзя."
   ]
  },
  {
   "cell_type": "code",
   "execution_count": 45,
   "metadata": {
    "colab": {
     "base_uri": "https://localhost:8080/"
    },
    "id": "lKC_c872wer9",
    "executionInfo": {
     "status": "ok",
     "timestamp": 1671446063505,
     "user_tz": -180,
     "elapsed": 451,
     "user": {
      "displayName": "misha ndri (mishandri)",
      "userId": "02391373956068116885"
     }
    },
    "outputId": "2dc89def-1551-4e21-90d0-0ee7dcd8dcbd"
   },
   "outputs": [
    {
     "name": "stdout",
     "output_type": "stream",
     "text": [
      "0.9999999999999991\n"
     ]
    }
   ],
   "source": [
    "F_d = np.linalg.det(F)\n",
    "\n",
    "F_inv_d = np.linalg.det(F_inv)\n",
    "\n",
    "print(F_d * F_inv_d)"
   ]
  },
  {
   "cell_type": "markdown",
   "metadata": {
    "id": "PMvDR9MVwer-"
   },
   "source": [
    "## Генерирование массивов с заданными свойствами\n",
    "\n",
    "Здесь мы рассмотрим способы задавать массивы различных размеров.\n",
    "\n",
    "Функция `np.zeros` позволяет создать массив любой формы, состоящий из нулей:"
   ]
  },
  {
   "cell_type": "code",
   "execution_count": 46,
   "metadata": {
    "colab": {
     "base_uri": "https://localhost:8080/"
    },
    "id": "iSnBXBtiwer_",
    "executionInfo": {
     "status": "ok",
     "timestamp": 1671446082032,
     "user_tz": -180,
     "elapsed": 391,
     "user": {
      "displayName": "misha ndri (mishandri)",
      "userId": "02391373956068116885"
     }
    },
    "outputId": "301aa4b7-d0a1-4353-d4ef-35145338b1b8"
   },
   "outputs": [
    {
     "name": "stdout",
     "output_type": "stream",
     "text": [
      "[[0. 0. 0. 0.]\n",
      " [0. 0. 0. 0.]\n",
      " [0. 0. 0. 0.]]\n"
     ]
    }
   ],
   "source": [
    "a = np.zeros((3, 4))\n",
    "\n",
    "print(a)"
   ]
  },
  {
   "cell_type": "markdown",
   "metadata": {
    "id": "_7QxzWyswesA"
   },
   "source": [
    "Аналогично, функция `np.ones` вернёт массив заданной формы, состоящий из единиц:"
   ]
  },
  {
   "cell_type": "code",
   "execution_count": 47,
   "metadata": {
    "colab": {
     "base_uri": "https://localhost:8080/"
    },
    "id": "6VJxCE6LwesA",
    "executionInfo": {
     "status": "ok",
     "timestamp": 1671446092236,
     "user_tz": -180,
     "elapsed": 366,
     "user": {
      "displayName": "misha ndri (mishandri)",
      "userId": "02391373956068116885"
     }
    },
    "outputId": "9aaf0e26-042a-4062-8f5e-f1d24987115d"
   },
   "outputs": [
    {
     "name": "stdout",
     "output_type": "stream",
     "text": [
      "[[1. 1. 1. 1.]\n",
      " [1. 1. 1. 1.]\n",
      " [1. 1. 1. 1.]]\n"
     ]
    }
   ],
   "source": [
    "b = np.ones((3, 4))\n",
    "\n",
    "print(b)"
   ]
  },
  {
   "cell_type": "markdown",
   "metadata": {
    "id": "bONxYjUFwesB"
   },
   "source": [
    "Последовательности чисел можно создавать с помощью функции `np.arange`. Вот три способа использовать эту функцию:\n",
    "\n",
    "* Если задать только один аргумент, то вернётся последовательность чисел от $0$ до этого аргумента невключительно:"
   ]
  },
  {
   "cell_type": "code",
   "execution_count": 48,
   "metadata": {
    "colab": {
     "base_uri": "https://localhost:8080/"
    },
    "id": "Kphxyvb-wesC",
    "executionInfo": {
     "status": "ok",
     "timestamp": 1671446100388,
     "user_tz": -180,
     "elapsed": 436,
     "user": {
      "displayName": "misha ndri (mishandri)",
      "userId": "02391373956068116885"
     }
    },
    "outputId": "505601ee-da3d-4506-e23a-f9f340c7d3c8"
   },
   "outputs": [
    {
     "name": "stdout",
     "output_type": "stream",
     "text": [
      "[0 1 2 3 4 5 6 7 8 9]\n"
     ]
    }
   ],
   "source": [
    "ar1 = np.arange(10)\n",
    "\n",
    "print(ar1)"
   ]
  },
  {
   "cell_type": "markdown",
   "metadata": {
    "id": "A9vO2B2TwesC"
   },
   "source": [
    "* Если подать два аргумента, то вернётся последовательность чисел от первого аргумента до второго (включая первый, не включая второй):"
   ]
  },
  {
   "cell_type": "code",
   "execution_count": 49,
   "metadata": {
    "colab": {
     "base_uri": "https://localhost:8080/"
    },
    "id": "5oK_7W0iwesD",
    "executionInfo": {
     "status": "ok",
     "timestamp": 1671446125499,
     "user_tz": -180,
     "elapsed": 526,
     "user": {
      "displayName": "misha ndri (mishandri)",
      "userId": "02391373956068116885"
     }
    },
    "outputId": "22a8edfc-6c9e-4042-fd69-1ee22eee7c90"
   },
   "outputs": [
    {
     "name": "stdout",
     "output_type": "stream",
     "text": [
      "[ 2  3  4  5  6  7  8  9 10 11 12]\n"
     ]
    }
   ],
   "source": [
    "ar2 = np.arange(2, 13)\n",
    "\n",
    "print(ar2)"
   ]
  },
  {
   "cell_type": "markdown",
   "metadata": {
    "id": "UJhbyjKOwesD"
   },
   "source": [
    "* Если подать три аргумента, то третий аргумент будет обозначать шаг, с которым берутся числа в последовательности:"
   ]
  },
  {
   "cell_type": "code",
   "execution_count": 50,
   "metadata": {
    "id": "ibwNrC_ewesE",
    "outputId": "c950bcdf-b495-4e6b-f539-0bca6cf978ab"
   },
   "outputs": [
    {
     "name": "stdout",
     "output_type": "stream",
     "text": [
      "[ 2  4  6  8 10 12]\n"
     ]
    }
   ],
   "source": [
    "ar3 = np.arange(2, 13, 2)\n",
    "\n",
    "print(ar3)"
   ]
  },
  {
   "cell_type": "markdown",
   "metadata": {
    "id": "b5uIO59MwesG"
   },
   "source": [
    "Отметим, что шаг в функции `np.arange` может быть дробным:"
   ]
  },
  {
   "cell_type": "code",
   "execution_count": 51,
   "metadata": {
    "id": "yual-Xv8wesI",
    "outputId": "a70058f4-b02e-4b5a-c14d-a2a426d3a925"
   },
   "outputs": [
    {
     "name": "stdout",
     "output_type": "stream",
     "text": [
      "[2.  2.1 2.2 2.3 2.4 2.5 2.6 2.7 2.8 2.9]\n"
     ]
    }
   ],
   "source": [
    "ar4 = np.arange(2, 3, 0.1)\n",
    "\n",
    "print(ar4)"
   ]
  },
  {
   "cell_type": "markdown",
   "metadata": {
    "id": "dKiz4T7zwesI"
   },
   "source": [
    "Если шаг отрицательный, то последовательность будет возвращена в обратном порядке:"
   ]
  },
  {
   "cell_type": "code",
   "execution_count": 52,
   "metadata": {
    "colab": {
     "base_uri": "https://localhost:8080/"
    },
    "id": "_4e7V7sswesU",
    "executionInfo": {
     "status": "ok",
     "timestamp": 1671446162318,
     "user_tz": -180,
     "elapsed": 589,
     "user": {
      "displayName": "misha ndri (mishandri)",
      "userId": "02391373956068116885"
     }
    },
    "outputId": "e88a93a8-d0ca-49e1-ab7e-57dd3b88f31f"
   },
   "outputs": [
    {
     "name": "stdout",
     "output_type": "stream",
     "text": [
      "[3.  2.9 2.8 2.7 2.6 2.5 2.4 2.3 2.2 2.1]\n"
     ]
    }
   ],
   "source": [
    "ar5 = np.arange(3, 2, -0.1)\n",
    "\n",
    "print(ar5)"
   ]
  },
  {
   "cell_type": "markdown",
   "metadata": {
    "id": "rnCOU6aDwesU"
   },
   "source": [
    "Ещё одна полезная функция здесь - это функция `np.linspace`. Она позволяет вернуть заданное количество значений, равномерно расставленных между заданными началом и концом отрезка. Отметим, что здесь и левый (первый аргумент), и првый (второй аргумент) концы отрезка включаются в массив, также указывается количество нужных элементов (третий аргумент):"
   ]
  },
  {
   "cell_type": "code",
   "execution_count": 53,
   "metadata": {
    "id": "zRW33Ha7wesU",
    "outputId": "b0e7e367-0f6d-4364-ca3c-315f4685aa0c"
   },
   "outputs": [
    {
     "name": "stdout",
     "output_type": "stream",
     "text": [
      "[2.         2.11111111 2.22222222 2.33333333 2.44444444 2.55555556\n",
      " 2.66666667 2.77777778 2.88888889 3.        ]\n"
     ]
    }
   ],
   "source": [
    "c = np.linspace(2, 3, 10)\n",
    "\n",
    "print(c)"
   ]
  },
  {
   "cell_type": "markdown",
   "metadata": {
    "id": "Hth7uprmwesV"
   },
   "source": [
    "Функция `np.logspace` имеет похожий эффект, отличие лишь в том, что в качестве начала и конца отрезка мы подаём не сами числа, а степени числа $10$. Например, в ячейке ниже мы задаём массив, содержащий $4$ значения, расставленных равномерно в пределах от $10^0 = 1$ до $10^3 = 1000$."
   ]
  },
  {
   "cell_type": "code",
   "execution_count": 54,
   "metadata": {
    "colab": {
     "base_uri": "https://localhost:8080/"
    },
    "id": "02WgRKqjwesV",
    "executionInfo": {
     "status": "ok",
     "timestamp": 1671446482449,
     "user_tz": -180,
     "elapsed": 992,
     "user": {
      "displayName": "misha ndri (mishandri)",
      "userId": "02391373956068116885"
     }
    },
    "outputId": "a9c193b9-197e-44e4-dd84-3f3c438df18a"
   },
   "outputs": [
    {
     "name": "stdout",
     "output_type": "stream",
     "text": [
      "[   1.   10.  100. 1000.]\n"
     ]
    }
   ],
   "source": [
    "d = np.logspace(0, 3, 4)\n",
    "\n",
    "print(d)"
   ]
  },
  {
   "cell_type": "markdown",
   "metadata": {
    "id": "hEx4SFIuwesV"
   },
   "source": [
    "### Массивы случайных значений"
   ]
  },
  {
   "cell_type": "markdown",
   "metadata": {
    "id": "tJheZ_VJwesV"
   },
   "source": [
    "Функция `sample` из модуля `numpy.random` возвращает массив заданной формы, состоящий из чисел, взятых из равномерного распределения на отрезке $[0, 1)$."
   ]
  },
  {
   "cell_type": "code",
   "execution_count": 55,
   "metadata": {
    "colab": {
     "base_uri": "https://localhost:8080/"
    },
    "id": "YNjdprE0wesW",
    "executionInfo": {
     "status": "ok",
     "timestamp": 1671446485622,
     "user_tz": -180,
     "elapsed": 588,
     "user": {
      "displayName": "misha ndri (mishandri)",
      "userId": "02391373956068116885"
     }
    },
    "outputId": "bcae6ca6-ce53-4f1a-851e-d534e2fcd647"
   },
   "outputs": [
    {
     "name": "stdout",
     "output_type": "stream",
     "text": [
      "[[0.56533646 0.33998949 0.24494413 0.81766969]\n",
      " [0.35315725 0.03779031 0.44472815 0.36274374]\n",
      " [0.46433818 0.86262289 0.20357072 0.16530134]]\n"
     ]
    }
   ],
   "source": [
    "a = np.random.sample((3, 4))\n",
    "\n",
    "print(a)"
   ]
  },
  {
   "cell_type": "markdown",
   "metadata": {
    "id": "QaNnFQlywesW"
   },
   "source": [
    "Отметим, что в эту и другие представленные ниже функции можно подавать также не кортеж, а какое-то одно целое число. В этом случае вернётся одномерный массив заданного размера. Также в эти функции можно не подавать аргументы вовсе - в этом случае вернётся лишь одно число."
   ]
  },
  {
   "cell_type": "code",
   "execution_count": 56,
   "metadata": {
    "colab": {
     "base_uri": "https://localhost:8080/"
    },
    "id": "42dlm4eSwesW",
    "executionInfo": {
     "status": "ok",
     "timestamp": 1671446496025,
     "user_tz": -180,
     "elapsed": 682,
     "user": {
      "displayName": "misha ndri (mishandri)",
      "userId": "02391373956068116885"
     }
    },
    "outputId": "cc821383-dc44-4c49-92b6-ed6cae005979"
   },
   "outputs": [
    {
     "name": "stdout",
     "output_type": "stream",
     "text": [
      "Одно значение: 0.9864786029208529\n",
      "Три значения: [0.41077604 0.70914243 0.54999916]\n"
     ]
    }
   ],
   "source": [
    "print(\"Одно значение: {}\".format(np.random.sample()))\n",
    "\n",
    "print(\"Три значения: {}\".format(np.random.sample(3)))"
   ]
  },
  {
   "cell_type": "markdown",
   "metadata": {
    "id": "kWg7X8qgwesX"
   },
   "source": [
    "Функция `randn` из модуля `numpy.random` возвращает аналогичный массив, но уже взятый из нормального распределения (со средним $0$ и среднеквадратическим отклонением $1$):"
   ]
  },
  {
   "cell_type": "code",
   "execution_count": 57,
   "metadata": {
    "colab": {
     "base_uri": "https://localhost:8080/"
    },
    "id": "dvb_XObdwesX",
    "executionInfo": {
     "status": "ok",
     "timestamp": 1671446517335,
     "user_tz": -180,
     "elapsed": 641,
     "user": {
      "displayName": "misha ndri (mishandri)",
      "userId": "02391373956068116885"
     }
    },
    "outputId": "53d35153-7fb1-49e7-8de8-7b2005a2f620"
   },
   "outputs": [
    {
     "name": "stdout",
     "output_type": "stream",
     "text": [
      "[[ 2.7151485   0.81420718  0.4709614   0.54326505]\n",
      " [ 1.17663852 -1.9285728   0.10714815 -0.26815698]\n",
      " [ 0.34951564  0.86435205 -0.02811831  0.43794287]]\n"
     ]
    }
   ],
   "source": [
    "b = np.random.randn(3, 4)\n",
    "\n",
    "print(b)"
   ]
  },
  {
   "cell_type": "markdown",
   "metadata": {
    "id": "PSZxwO96wesX"
   },
   "source": [
    "Обратите внимание, что эта функция получает на вход не кортеж `tuple`, а просто последовательность размеров по каждому измерению.\n",
    "\n",
    "Функция `randint` возвращает массив из целых чисел в указанном диапазоне:"
   ]
  },
  {
   "cell_type": "code",
   "execution_count": 58,
   "metadata": {
    "colab": {
     "base_uri": "https://localhost:8080/"
    },
    "id": "QiFM4gQJwesY",
    "executionInfo": {
     "status": "ok",
     "timestamp": 1671446552724,
     "user_tz": -180,
     "elapsed": 641,
     "user": {
      "displayName": "misha ndri (mishandri)",
      "userId": "02391373956068116885"
     }
    },
    "outputId": "566222e6-f063-45d1-d877-7c5ce0743770"
   },
   "outputs": [
    {
     "name": "stdout",
     "output_type": "stream",
     "text": [
      "[[44 93 29 62]\n",
      " [77 98  0 36]\n",
      " [24 11 85 74]]\n"
     ]
    }
   ],
   "source": [
    "c = np.random.randint(0, 100, (3, 4))\n",
    "\n",
    "print(c)"
   ]
  },
  {
   "cell_type": "markdown",
   "metadata": {
    "id": "3ssIOK4CwesY"
   },
   "source": [
    "Функция `choice` возвращает случайно выбранные элементы из заранее заданного массива:"
   ]
  },
  {
   "cell_type": "code",
   "execution_count": 59,
   "metadata": {
    "colab": {
     "base_uri": "https://localhost:8080/"
    },
    "id": "7f7V58lcwesY",
    "executionInfo": {
     "status": "ok",
     "timestamp": 1671446558471,
     "user_tz": -180,
     "elapsed": 639,
     "user": {
      "displayName": "misha ndri (mishandri)",
      "userId": "02391373956068116885"
     }
    },
    "outputId": "4a74f013-df8c-4806-8728-b5a7fbf0b389"
   },
   "outputs": [
    {
     "name": "stdout",
     "output_type": "stream",
     "text": [
      "[[ -3  -4  -8 -10]\n",
      " [ -3 -10  -5  -8]\n",
      " [ -6  -2  -3  -3]]\n"
     ]
    }
   ],
   "source": [
    "A = np.arange(-10, 0)\n",
    "\n",
    "d = np.random.choice(A, (3, 4))\n",
    "\n",
    "print(d)"
   ]
  },
  {
   "cell_type": "markdown",
   "metadata": {
    "id": "bLvHPdNpwesZ"
   },
   "source": [
    "### Изменение размеров массива\n",
    "\n",
    "Библиотека `numpy` предоставляет функционал для удобного изменения размера массивов.\n",
    "\n",
    "Например, рассмотрим одномерный массив с $12$ элементами:"
   ]
  },
  {
   "cell_type": "code",
   "execution_count": 60,
   "metadata": {
    "colab": {
     "base_uri": "https://localhost:8080/"
    },
    "id": "QOhjHc0ywesZ",
    "executionInfo": {
     "status": "ok",
     "timestamp": 1671446578809,
     "user_tz": -180,
     "elapsed": 617,
     "user": {
      "displayName": "misha ndri (mishandri)",
      "userId": "02391373956068116885"
     }
    },
    "outputId": "bc60d00c-1c54-43f6-dc39-aee07d99a18d"
   },
   "outputs": [
    {
     "name": "stdout",
     "output_type": "stream",
     "text": [
      "[ 0  1  2  3  4  5  6  7  8  9 10 11]\n"
     ]
    }
   ],
   "source": [
    "ar = np.arange(12)\n",
    "\n",
    "print(ar)"
   ]
  },
  {
   "cell_type": "markdown",
   "metadata": {
    "id": "0ZfOpBzswesZ"
   },
   "source": [
    "Если нам нужно расположить эти значения в двумерном массиве, мы можем сделать это с помощью функции `np.reshape` или метода `ar.reshape`:"
   ]
  },
  {
   "cell_type": "code",
   "execution_count": 61,
   "metadata": {
    "colab": {
     "base_uri": "https://localhost:8080/"
    },
    "id": "6QjBOM7vwesZ",
    "executionInfo": {
     "status": "ok",
     "timestamp": 1671446611773,
     "user_tz": -180,
     "elapsed": 7,
     "user": {
      "displayName": "misha ndri (mishandri)",
      "userId": "02391373956068116885"
     }
    },
    "outputId": "01b289a2-ca08-4a78-d323-3819ec6e82d8"
   },
   "outputs": [
    {
     "name": "stdout",
     "output_type": "stream",
     "text": [
      "[[ 0  1  2  3]\n",
      " [ 4  5  6  7]\n",
      " [ 8  9 10 11]]\n"
     ]
    }
   ],
   "source": [
    "a = ar.reshape(3, 4)\n",
    "\n",
    "print(a)"
   ]
  },
  {
   "cell_type": "markdown",
   "metadata": {
    "id": "HeAUeRyWwesa"
   },
   "source": [
    "Ясно, что при этом число элементов получаемого массива должно совпадать с числом элементов в оригинальном массиве. Например, следующая попытка посчитать функцию закончится ошибкой:"
   ]
  },
  {
   "cell_type": "code",
   "execution_count": 62,
   "metadata": {
    "id": "j70WV-LQwesa",
    "outputId": "534319ae-45d3-4295-99ac-552e1a1ed707"
   },
   "outputs": [
    {
     "ename": "ValueError",
     "evalue": "cannot reshape array of size 12 into shape (3,5)",
     "output_type": "error",
     "traceback": [
      "\u001B[1;31m---------------------------------------------------------------------------\u001B[0m",
      "\u001B[1;31mValueError\u001B[0m                                Traceback (most recent call last)",
      "Input \u001B[1;32mIn [62]\u001B[0m, in \u001B[0;36m<cell line: 1>\u001B[1;34m()\u001B[0m\n\u001B[1;32m----> 1\u001B[0m b \u001B[38;5;241m=\u001B[39m \u001B[43mar\u001B[49m\u001B[38;5;241;43m.\u001B[39;49m\u001B[43mreshape\u001B[49m\u001B[43m(\u001B[49m\u001B[38;5;241;43m3\u001B[39;49m\u001B[43m,\u001B[49m\u001B[43m \u001B[49m\u001B[38;5;241;43m5\u001B[39;49m\u001B[43m)\u001B[49m\n",
      "\u001B[1;31mValueError\u001B[0m: cannot reshape array of size 12 into shape (3,5)"
     ]
    }
   ],
   "source": [
    "b = ar.reshape(3, 5)"
   ]
  },
  {
   "cell_type": "markdown",
   "metadata": {
    "id": "iYgjLMGTwesa"
   },
   "source": [
    "Если мы знаем количество строк, которое хотим получить, но не знаем количество столбцов, в качестве второго аргумента можно передать число $-1$. Если наоборот мы знаем лишь количество столбцов, можно передать $-1$ в качестве первого аргумента."
   ]
  },
  {
   "cell_type": "code",
   "execution_count": null,
   "metadata": {
    "colab": {
     "base_uri": "https://localhost:8080/"
    },
    "id": "kRoEqSHewesa",
    "executionInfo": {
     "status": "ok",
     "timestamp": 1671446670333,
     "user_tz": -180,
     "elapsed": 368,
     "user": {
      "displayName": "misha ndri (mishandri)",
      "userId": "02391373956068116885"
     }
    },
    "outputId": "50f98497-5584-4f46-fdbd-b867c0a1035b"
   },
   "outputs": [],
   "source": [
    "b = ar.reshape(3, -1)\n",
    "\n",
    "print(b)"
   ]
  },
  {
   "cell_type": "markdown",
   "metadata": {
    "id": "bVHJkQsLwesb"
   },
   "source": [
    "Метод `ar.reshape` не меняет сам массив `ar`, он лишь возвращает новый. Есть также метод `ar.resize`, который делает то же самое, что и `ar.reshape`, но не возвращает ничего и меняет исходный массив:"
   ]
  },
  {
   "cell_type": "code",
   "execution_count": null,
   "metadata": {
    "colab": {
     "base_uri": "https://localhost:8080/"
    },
    "id": "zwKtQYU2wesb",
    "executionInfo": {
     "status": "ok",
     "timestamp": 1671446673503,
     "user_tz": -180,
     "elapsed": 14,
     "user": {
      "displayName": "misha ndri (mishandri)",
      "userId": "02391373956068116885"
     }
    },
    "outputId": "20ecdc71-ce7f-4d6b-f962-797a35fd830d"
   },
   "outputs": [],
   "source": [
    "ar.resize(3, 4)\n",
    "\n",
    "print(ar)"
   ]
  },
  {
   "cell_type": "markdown",
   "metadata": {
    "id": "nrKZ7Bmfwesb"
   },
   "source": [
    "Обратно, чтобы получить из многомерного массива одномерный, можно воспользоваться методом `ar.flatten`:"
   ]
  },
  {
   "cell_type": "code",
   "execution_count": null,
   "metadata": {
    "colab": {
     "base_uri": "https://localhost:8080/"
    },
    "id": "tpZC9If-wesb",
    "executionInfo": {
     "status": "ok",
     "timestamp": 1671446701223,
     "user_tz": -180,
     "elapsed": 663,
     "user": {
      "displayName": "misha ndri (mishandri)",
      "userId": "02391373956068116885"
     }
    },
    "outputId": "2ed9d75c-973f-434a-bfb7-7a2c44c7f118"
   },
   "outputs": [],
   "source": [
    "c = ar.flatten()\n",
    "\n",
    "print(c)"
   ]
  },
  {
   "cell_type": "markdown",
   "metadata": {
    "id": "Eg0NYqzXwesc"
   },
   "source": [
    "### Соединение массивов\n",
    "\n",
    "Рассмотрим два массива и разберёмся с тем, как их можно соединить в один."
   ]
  },
  {
   "cell_type": "code",
   "execution_count": null,
   "metadata": {
    "id": "ErZhs9L2wesc",
    "executionInfo": {
     "status": "ok",
     "timestamp": 1671446714353,
     "user_tz": -180,
     "elapsed": 648,
     "user": {
      "displayName": "misha ndri (mishandri)",
      "userId": "02391373956068116885"
     }
    }
   },
   "outputs": [],
   "source": [
    "a = np.zeros((2, 3))\n",
    "\n",
    "b = np.ones((2, 3))"
   ]
  },
  {
   "cell_type": "markdown",
   "metadata": {
    "id": "S5S41XCcwesc"
   },
   "source": [
    "Мы можем соединить эти массивы вертикально (т.е. дописать один под другим). Вот несколько способов это сделать:\n",
    "\n",
    "* с помощью функции `np.vstack`: `c = np.vstack((a, b))` (получает на вход кортеж из массивов)\n",
    "* с помощью функции `np.concatenate`: `c = np.concatenate((a, b), axis=0)` (тоже получает на вход кортеж, также нужно указать, вдоль какой оси производится конкатенация)"
   ]
  },
  {
   "cell_type": "code",
   "execution_count": null,
   "metadata": {
    "colab": {
     "base_uri": "https://localhost:8080/"
    },
    "id": "pmLfx8Iowesc",
    "executionInfo": {
     "status": "ok",
     "timestamp": 1671446719146,
     "user_tz": -180,
     "elapsed": 625,
     "user": {
      "displayName": "misha ndri (mishandri)",
      "userId": "02391373956068116885"
     }
    },
    "outputId": "5834c144-972f-4751-e029-f260b75656dc"
   },
   "outputs": [],
   "source": [
    "c = np.vstack((a, b))\n",
    "\n",
    "print(c)"
   ]
  },
  {
   "cell_type": "markdown",
   "metadata": {
    "id": "XSkg2Kujwesd"
   },
   "source": [
    "Также несколько способов это соединить массивы горизонтально (т.е. дописать один правее другого):\n",
    "\n",
    "* с помощью функции `np.hstack`: `c = np.hstack((a, b))`\n",
    "* с помощью функции `np.concatenate`: `c = np.concatenate((a, b), axis=1)` (производится теперь вдоль оси $1$)"
   ]
  },
  {
   "cell_type": "code",
   "execution_count": null,
   "metadata": {
    "colab": {
     "base_uri": "https://localhost:8080/"
    },
    "id": "eGTdxYvMwesd",
    "executionInfo": {
     "status": "ok",
     "timestamp": 1671446765066,
     "user_tz": -180,
     "elapsed": 345,
     "user": {
      "displayName": "misha ndri (mishandri)",
      "userId": "02391373956068116885"
     }
    },
    "outputId": "a5e942bb-edbd-43a1-ec34-c8035f4a51b2"
   },
   "outputs": [],
   "source": [
    "d = np.concatenate((a, b), axis=1)\n",
    "\n",
    "print(d)"
   ]
  },
  {
   "cell_type": "markdown",
   "metadata": {
    "id": "tyUrV_06wesg"
   },
   "source": [
    "Наконец, два двумерных массива можно соединить _в глубину_ (т.е. вдоль новой третьей оси) с помощью функции `np.dstack`:"
   ]
  },
  {
   "cell_type": "code",
   "execution_count": null,
   "metadata": {
    "colab": {
     "base_uri": "https://localhost:8080/"
    },
    "id": "U63jjmm8wesh",
    "executionInfo": {
     "status": "ok",
     "timestamp": 1671446817991,
     "user_tz": -180,
     "elapsed": 389,
     "user": {
      "displayName": "misha ndri (mishandri)",
      "userId": "02391373956068116885"
     }
    },
    "outputId": "573d99ba-d6bd-4020-f708-549bdd9f5b2e"
   },
   "outputs": [],
   "source": [
    "e = np.dstack((a, b))\n",
    "\n",
    "print(e)"
   ]
  },
  {
   "cell_type": "markdown",
   "metadata": {
    "id": "PFQMF1H0wesi"
   },
   "source": [
    "## Функции для работы с данными\n",
    "\n",
    "Библиотека `numpy` предлагает удобный функционал для выбора данных из массива. Рассмотрим массив из $10$ случайных целых значений от $0$ до $19$:"
   ]
  },
  {
   "cell_type": "code",
   "execution_count": null,
   "metadata": {
    "colab": {
     "base_uri": "https://localhost:8080/"
    },
    "id": "sewSx1KVwesi",
    "executionInfo": {
     "status": "ok",
     "timestamp": 1671446979691,
     "user_tz": -180,
     "elapsed": 422,
     "user": {
      "displayName": "misha ndri (mishandri)",
      "userId": "02391373956068116885"
     }
    },
    "outputId": "f3711147-26a0-4786-b2cb-1d29ecf6e274"
   },
   "outputs": [],
   "source": [
    "a = np.random.randint(0, 20, 10)\n",
    "\n",
    "print(a)"
   ]
  },
  {
   "cell_type": "markdown",
   "metadata": {
    "id": "9sSMu9M0wesi"
   },
   "source": [
    "Допустим, мы хотим выбрать все значения этого массива, которые больше $10$. Вот как это можно сделать:"
   ]
  },
  {
   "cell_type": "code",
   "execution_count": null,
   "metadata": {
    "colab": {
     "base_uri": "https://localhost:8080/"
    },
    "id": "RR-r9qBAwesj",
    "executionInfo": {
     "status": "ok",
     "timestamp": 1671446981153,
     "user_tz": -180,
     "elapsed": 5,
     "user": {
      "displayName": "misha ndri (mishandri)",
      "userId": "02391373956068116885"
     }
    },
    "outputId": "6a650488-974b-4943-d09c-6ce020dc8bbe"
   },
   "outputs": [],
   "source": [
    "b = a[a > 10]\n",
    "\n",
    "print(b)"
   ]
  },
  {
   "cell_type": "markdown",
   "metadata": {
    "id": "KtJnjK4cwesj"
   },
   "source": [
    "Свойства можно комбинировать, используя логические операторы \"и\" (обозначается символом $\\&$), \"или\" (символ $\\mid$) и оператор отрицания \"не\" (символ $\\sim$). При этом каждое условие необходимо поставить в круглые скобки:"
   ]
  },
  {
   "cell_type": "code",
   "execution_count": null,
   "metadata": {
    "colab": {
     "base_uri": "https://localhost:8080/"
    },
    "id": "bHesUkKSwesj",
    "executionInfo": {
     "status": "ok",
     "timestamp": 1671446982646,
     "user_tz": -180,
     "elapsed": 6,
     "user": {
      "displayName": "misha ndri (mishandri)",
      "userId": "02391373956068116885"
     }
    },
    "outputId": "a3722ed2-0d69-45f9-8706-1d501b943384"
   },
   "outputs": [],
   "source": [
    "c = a[(a > 0) & (a % 2 == 0)]\n",
    "\n",
    "print(c)"
   ]
  },
  {
   "cell_type": "markdown",
   "metadata": {
    "id": "bn4VxS9Twesj"
   },
   "source": [
    "Такая конструкция в `numpy` называется _булевой индексацией_. Разберёмся с ней поподробнее. Что из себя представляет объект `a > 0`?"
   ]
  },
  {
   "cell_type": "code",
   "execution_count": null,
   "metadata": {
    "colab": {
     "base_uri": "https://localhost:8080/"
    },
    "id": "kbl_5ynCwesk",
    "executionInfo": {
     "status": "ok",
     "timestamp": 1671447000012,
     "user_tz": -180,
     "elapsed": 462,
     "user": {
      "displayName": "misha ndri (mishandri)",
      "userId": "02391373956068116885"
     }
    },
    "outputId": "869d29b0-9fa1-427c-8355-64fc2cabe356"
   },
   "outputs": [],
   "source": [
    "print(a > 10)"
   ]
  },
  {
   "cell_type": "markdown",
   "metadata": {
    "id": "WoqX1U6Uwesk"
   },
   "source": [
    "Как мы видим, это просто `numpy`-массив из булевых значений `True` и `False`. Когда мы подставляем такой массив в качестве _индекса_ массива `a`, нам возвращаются все элементы, на позиции которых в этом массиве стоит значение `True`.\n",
    "\n",
    "Можно просто создать такой массив вручную и передать его в качестве индекса:"
   ]
  },
  {
   "cell_type": "code",
   "execution_count": null,
   "metadata": {
    "colab": {
     "base_uri": "https://localhost:8080/"
    },
    "id": "5ep5U9fLwesk",
    "executionInfo": {
     "status": "ok",
     "timestamp": 1671447183021,
     "user_tz": -180,
     "elapsed": 347,
     "user": {
      "displayName": "misha ndri (mishandri)",
      "userId": "02391373956068116885"
     }
    },
    "outputId": "a81527b4-9141-4eb1-b206-ad380f54d284"
   },
   "outputs": [],
   "source": [
    "ind = np.array([True, False, True, True, False, False, False, True, True, False])\n",
    "\n",
    "print(a[ind])"
   ]
  },
  {
   "cell_type": "markdown",
   "metadata": {
    "id": "Rp20I17Zwesk"
   },
   "source": [
    "Другой способ выбрать значения из массива - с помощью функции `np.where`. Она берёт массив из булевых значений и возвращает _индексы_ истинных значений:"
   ]
  },
  {
   "cell_type": "code",
   "execution_count": null,
   "metadata": {
    "colab": {
     "base_uri": "https://localhost:8080/"
    },
    "id": "eakoCU5Wwesl",
    "executionInfo": {
     "status": "ok",
     "timestamp": 1671447298696,
     "user_tz": -180,
     "elapsed": 665,
     "user": {
      "displayName": "misha ndri (mishandri)",
      "userId": "02391373956068116885"
     }
    },
    "outputId": "11099188-b37d-4444-bd72-531546999533"
   },
   "outputs": [],
   "source": [
    "ind1 = np.where(a > 10)\n",
    "\n",
    "print(ind1)"
   ]
  },
  {
   "cell_type": "markdown",
   "metadata": {
    "id": "0jSGVI7Twesl"
   },
   "source": [
    "Такой список индексов можно также передать в массив `a` чтобы получить конкретные значения:"
   ]
  },
  {
   "cell_type": "code",
   "execution_count": null,
   "metadata": {
    "colab": {
     "base_uri": "https://localhost:8080/"
    },
    "id": "LsOJa4Ukwesl",
    "executionInfo": {
     "status": "ok",
     "timestamp": 1671447323087,
     "user_tz": -180,
     "elapsed": 404,
     "user": {
      "displayName": "misha ndri (mishandri)",
      "userId": "02391373956068116885"
     }
    },
    "outputId": "ea1eace6-d2ad-46f9-b309-d32546900f36"
   },
   "outputs": [],
   "source": [
    "d = a[ind1]\n",
    "\n",
    "print(d)"
   ]
  },
  {
   "cell_type": "markdown",
   "metadata": {
    "id": "Fvu_q3x7weso"
   },
   "source": [
    "То же самое можно сделать и вручную: передать в квадратные скобки массива `a` какой-нибудь список из индексов:"
   ]
  },
  {
   "cell_type": "code",
   "execution_count": null,
   "metadata": {
    "colab": {
     "base_uri": "https://localhost:8080/"
    },
    "id": "-YVJiZHHwesp",
    "executionInfo": {
     "status": "ok",
     "timestamp": 1671447371262,
     "user_tz": -180,
     "elapsed": 395,
     "user": {
      "displayName": "misha ndri (mishandri)",
      "userId": "02391373956068116885"
     }
    },
    "outputId": "79812bce-20f1-4fb1-da99-9a5bab0ca7e3"
   },
   "outputs": [],
   "source": [
    "e = a[[0, 4, 7]]\n",
    "\n",
    "print(e)"
   ]
  },
  {
   "cell_type": "markdown",
   "metadata": {
    "id": "uwe0qWmAwes0"
   },
   "source": [
    "Отметим также, что если массив `a` является многомерным, то чтобы выбрать таким образом из него значения, нужно указать внутри квадратных скобок через запятую столько списков, сколько имеется у массива измерений:"
   ]
  },
  {
   "cell_type": "code",
   "execution_count": null,
   "metadata": {
    "colab": {
     "base_uri": "https://localhost:8080/"
    },
    "id": "vhqBqbOqwes1",
    "executionInfo": {
     "status": "ok",
     "timestamp": 1671447375378,
     "user_tz": -180,
     "elapsed": 386,
     "user": {
      "displayName": "misha ndri (mishandri)",
      "userId": "02391373956068116885"
     }
    },
    "outputId": "6824283f-d7f5-44bf-bdbe-953902fd6f95"
   },
   "outputs": [],
   "source": [
    "a.resize((5, 2))\n",
    "\n",
    "print(a)"
   ]
  },
  {
   "cell_type": "code",
   "execution_count": null,
   "metadata": {
    "colab": {
     "base_uri": "https://localhost:8080/"
    },
    "id": "SjGE4T-Nwes1",
    "executionInfo": {
     "status": "ok",
     "timestamp": 1671447380418,
     "user_tz": -180,
     "elapsed": 356,
     "user": {
      "displayName": "misha ndri (mishandri)",
      "userId": "02391373956068116885"
     }
    },
    "outputId": "4be07e97-be16-4e90-95e5-fb8980e947fc"
   },
   "outputs": [],
   "source": [
    "f = a[[1, 4], :]\n",
    "\n",
    "print(f)"
   ]
  },
  {
   "cell_type": "markdown",
   "metadata": {
    "id": "6GtSoTkswes1"
   },
   "source": [
    "### Сортировка\n",
    "\n",
    "Рассмотрим двумерный массив:"
   ]
  },
  {
   "cell_type": "code",
   "execution_count": null,
   "metadata": {
    "id": "Q1DeMa70wes2",
    "outputId": "cda5593d-d122-418d-f096-a85ef8920178"
   },
   "outputs": [],
   "source": [
    "a = np.random.randint(0, 6, (3, 4))\n",
    "\n",
    "print(a)"
   ]
  },
  {
   "cell_type": "markdown",
   "metadata": {
    "id": "ELZa-sxMwes2"
   },
   "source": [
    "Допустим, мы хотим отсортировать строки этого массива по второму столбцу. Мы можем сделать это вручную, задав индексы строк в нужном нам порядке:"
   ]
  },
  {
   "cell_type": "code",
   "execution_count": null,
   "metadata": {
    "colab": {
     "base_uri": "https://localhost:8080/"
    },
    "id": "ruwwfuCewes2",
    "executionInfo": {
     "status": "ok",
     "timestamp": 1671447414804,
     "user_tz": -180,
     "elapsed": 669,
     "user": {
      "displayName": "misha ndri (mishandri)",
      "userId": "02391373956068116885"
     }
    },
    "outputId": "478e774e-6d4c-4221-fe7f-efe8bf403df1"
   },
   "outputs": [],
   "source": [
    "b = a[[1, 2, 0], :]\n",
    "\n",
    "print(b)"
   ]
  },
  {
   "cell_type": "markdown",
   "metadata": {
    "id": "VR2cLzoMwes3"
   },
   "source": [
    "Этот процесс можно автоматизировать с помощью метода `a.argsort`. Данный метод возвращает массив из индексов массива `a` в порядке их возрастания по заданной оси:"
   ]
  },
  {
   "cell_type": "code",
   "execution_count": null,
   "metadata": {
    "colab": {
     "base_uri": "https://localhost:8080/"
    },
    "id": "0n8iwHgUwes3",
    "executionInfo": {
     "status": "ok",
     "timestamp": 1671447427328,
     "user_tz": -180,
     "elapsed": 642,
     "user": {
      "displayName": "misha ndri (mishandri)",
      "userId": "02391373956068116885"
     }
    },
    "outputId": "5039a1e1-79dc-4b75-f504-0a1a31e8dca0"
   },
   "outputs": [],
   "source": [
    "ind = a.argsort(axis=0)\n",
    "\n",
    "print(ind)"
   ]
  },
  {
   "cell_type": "markdown",
   "metadata": {
    "id": "gFFqkayawes3"
   },
   "source": [
    "В каждом столбце этого массива стоят индексы строк массива `a`, расположенные в том порядке, в котором они бы отсортировали данный столбец по возрастанию. Автоматизируем процесс сортировки массива `a` по второму столбцу. Для этого нужно получить второй столбец из массива, полученного с помощью метода `a.argsort`:"
   ]
  },
  {
   "cell_type": "code",
   "execution_count": null,
   "metadata": {
    "colab": {
     "base_uri": "https://localhost:8080/"
    },
    "id": "LqRkeDPIwes4",
    "executionInfo": {
     "status": "ok",
     "timestamp": 1671447450304,
     "user_tz": -180,
     "elapsed": 357,
     "user": {
      "displayName": "misha ndri (mishandri)",
      "userId": "02391373956068116885"
     }
    },
    "outputId": "9fd56f72-48fd-46a6-ccdb-7ea3d91f4041"
   },
   "outputs": [],
   "source": [
    "ind1 = a[:, 1].argsort()\n",
    "\n",
    "print(ind1)"
   ]
  },
  {
   "cell_type": "markdown",
   "metadata": {
    "id": "OMqYvMVFwes4"
   },
   "source": [
    "Итоговая конструкция будет выглядеть так:"
   ]
  },
  {
   "cell_type": "code",
   "execution_count": null,
   "metadata": {
    "colab": {
     "base_uri": "https://localhost:8080/"
    },
    "id": "QROL4ublwes4",
    "executionInfo": {
     "status": "ok",
     "timestamp": 1671447499874,
     "user_tz": -180,
     "elapsed": 480,
     "user": {
      "displayName": "misha ndri (mishandri)",
      "userId": "02391373956068116885"
     }
    },
    "outputId": "1fecaa00-8661-42e4-d3a1-2e1de08f3519"
   },
   "outputs": [],
   "source": [
    "c = a[a[:, 1].argsort(), :]\n",
    "\n",
    "print(c)"
   ]
  },
  {
   "cell_type": "markdown",
   "metadata": {
    "id": "os9Y0Jw5wes4"
   },
   "source": [
    "### Перемешивание\n",
    "\n",
    "Иногда оказывается нужно перемешать значения массива. Это можно сделать с помощью функции `shuffle` из модуля `numpy.random`. Эта функция ничего не возвращает, лишь перемешивает случайным образом элементы данного массива. Отметим, что она перемешивает массив только в первом измерении. Другими словами, если массив двумерный, она лишь переставит его строки местами. Содержимое самих строк при этом не изменится:"
   ]
  },
  {
   "cell_type": "code",
   "execution_count": null,
   "metadata": {
    "colab": {
     "base_uri": "https://localhost:8080/"
    },
    "id": "UN7NF6z4wes5",
    "executionInfo": {
     "status": "ok",
     "timestamp": 1671447513067,
     "user_tz": -180,
     "elapsed": 11,
     "user": {
      "displayName": "misha ndri (mishandri)",
      "userId": "02391373956068116885"
     }
    },
    "outputId": "c06655fb-b2a1-4389-ade1-7a54b30b9d89"
   },
   "outputs": [],
   "source": [
    "np.random.shuffle(c)\n",
    "\n",
    "print(c)"
   ]
  },
  {
   "cell_type": "markdown",
   "metadata": {
    "id": "y3KRu87Zwes5"
   },
   "source": [
    "### Математические операции над массивами\n",
    "\n",
    "Некоторые математические операции можно выполнять с массивами целиком. Например, мы уже знаем, что массивы можно умножать на число и что массивы одинаковой формы можно складывать."
   ]
  },
  {
   "cell_type": "code",
   "execution_count": null,
   "metadata": {
    "colab": {
     "base_uri": "https://localhost:8080/"
    },
    "id": "E1mlX7ICwes5",
    "executionInfo": {
     "status": "ok",
     "timestamp": 1671447527493,
     "user_tz": -180,
     "elapsed": 342,
     "user": {
      "displayName": "misha ndri (mishandri)",
      "userId": "02391373956068116885"
     }
    },
    "outputId": "3d7a61d1-6616-4999-dfc2-97e32dc9b86e"
   },
   "outputs": [],
   "source": [
    "a = np.arange(0, 6).reshape(2, 3)\n",
    "b = np.arange(6, 12).reshape(2, 3)\n",
    "\n",
    "print(a)\n",
    "print(b)"
   ]
  },
  {
   "cell_type": "code",
   "execution_count": null,
   "metadata": {
    "colab": {
     "base_uri": "https://localhost:8080/"
    },
    "id": "ip_PXUe3wes5",
    "executionInfo": {
     "status": "ok",
     "timestamp": 1671447532444,
     "user_tz": -180,
     "elapsed": 438,
     "user": {
      "displayName": "misha ndri (mishandri)",
      "userId": "02391373956068116885"
     }
    },
    "outputId": "3ecd378e-6c00-4812-d46b-ba613bfcef7b"
   },
   "outputs": [],
   "source": [
    "print(a + b)"
   ]
  },
  {
   "cell_type": "code",
   "execution_count": null,
   "metadata": {
    "colab": {
     "base_uri": "https://localhost:8080/"
    },
    "id": "tovSCh6twes7",
    "executionInfo": {
     "status": "ok",
     "timestamp": 1671447535738,
     "user_tz": -180,
     "elapsed": 340,
     "user": {
      "displayName": "misha ndri (mishandri)",
      "userId": "02391373956068116885"
     }
    },
    "outputId": "12aa9dd3-2e7c-47f0-efe2-566a0f282ab0"
   },
   "outputs": [],
   "source": [
    "print(a * 2)"
   ]
  },
  {
   "cell_type": "markdown",
   "metadata": {
    "id": "rAOeK7Lowes8"
   },
   "source": [
    "К массивам можно также прибавлять числа - в этом случае к каждому элементу массива прибавляется число:"
   ]
  },
  {
   "cell_type": "code",
   "execution_count": null,
   "metadata": {
    "colab": {
     "base_uri": "https://localhost:8080/"
    },
    "id": "jCbooTmIwes8",
    "executionInfo": {
     "status": "ok",
     "timestamp": 1671447538064,
     "user_tz": -180,
     "elapsed": 10,
     "user": {
      "displayName": "misha ndri (mishandri)",
      "userId": "02391373956068116885"
     }
    },
    "outputId": "5fafeb0b-240e-4459-9e58-b85e2910381b"
   },
   "outputs": [],
   "source": [
    "print(a + 1)"
   ]
  },
  {
   "cell_type": "markdown",
   "metadata": {
    "id": "5aJAQYjpwes8"
   },
   "source": [
    "Массивы одинакового размера можно поэлементно умножать. (Важно не путать с матричным умножением.)"
   ]
  },
  {
   "cell_type": "code",
   "execution_count": null,
   "metadata": {
    "colab": {
     "base_uri": "https://localhost:8080/"
    },
    "id": "Y9sW6UsEwes8",
    "executionInfo": {
     "status": "ok",
     "timestamp": 1671447540449,
     "user_tz": -180,
     "elapsed": 14,
     "user": {
      "displayName": "misha ndri (mishandri)",
      "userId": "02391373956068116885"
     }
    },
    "outputId": "7262f56e-c522-4e7c-abfa-d2d9b3114ee8"
   },
   "outputs": [],
   "source": [
    "print(a * b)"
   ]
  },
  {
   "cell_type": "markdown",
   "metadata": {
    "id": "mLJcXHpiwes8"
   },
   "source": [
    "С помощью метода `a.sum` можно посчитать сумму всех значений массива. Если указать в этом методе ось `axis`, сумма будет посчитана только вдоль этой оси:"
   ]
  },
  {
   "cell_type": "code",
   "execution_count": null,
   "metadata": {
    "colab": {
     "base_uri": "https://localhost:8080/"
    },
    "id": "Z9Gq8c-2wes9",
    "executionInfo": {
     "status": "ok",
     "timestamp": 1671447542613,
     "user_tz": -180,
     "elapsed": 372,
     "user": {
      "displayName": "misha ndri (mishandri)",
      "userId": "02391373956068116885"
     }
    },
    "outputId": "5163b998-8a2c-4e6e-a455-0b30c7f6f849"
   },
   "outputs": [],
   "source": [
    "print(\"Сумма всех элементов: {}\".format(a.sum()))\n",
    "\n",
    "print('Сумма по столбцам (\"вдоль\" строк): {}'.format(a.sum(axis=0)))\n",
    "\n",
    "print('Сумма по строкам (\"вдоль\" столбцов): {}'.format(a.sum(axis=1)))"
   ]
  },
  {
   "cell_type": "markdown",
   "metadata": {
    "id": "OX5frGgwGeyI"
   },
   "source": [
    "#### Broadcasting\n",
    "\n",
    "В определённых случаях мы можем выполнять операции сложения и умножения над матрицами разных размеров. Концепция _broadcasting_ заключается в том, что в некоторых случаях интерпретатор \"догадывается\", что одну массив надо в каком-то измерении \"растянуть\" до соответствия со вторым массивом. Рассмотрим массив размера $3 \\times 2$:"
   ]
  },
  {
   "cell_type": "code",
   "execution_count": null,
   "metadata": {
    "id": "eONRBnPDwes9",
    "executionInfo": {
     "status": "ok",
     "timestamp": 1671447568707,
     "user_tz": -180,
     "elapsed": 420,
     "user": {
      "displayName": "misha ndri (mishandri)",
      "userId": "02391373956068116885"
     }
    }
   },
   "outputs": [],
   "source": [
    "a = np.array([[2, 5],\n",
    "              [3, 4],\n",
    "              [6, 1]])"
   ]
  },
  {
   "cell_type": "markdown",
   "metadata": {
    "id": "PRbGkOR9wes9"
   },
   "source": [
    "а также одномерный массив размера $2$:"
   ]
  },
  {
   "cell_type": "code",
   "execution_count": null,
   "metadata": {
    "id": "mhB0W5Iswes9",
    "executionInfo": {
     "status": "ok",
     "timestamp": 1671447572145,
     "user_tz": -180,
     "elapsed": 490,
     "user": {
      "displayName": "misha ndri (mishandri)",
      "userId": "02391373956068116885"
     }
    }
   },
   "outputs": [],
   "source": [
    "b = np.array([1, 2])"
   ]
  },
  {
   "cell_type": "markdown",
   "metadata": {
    "id": "XmctPLmdwes-"
   },
   "source": [
    "Если мы попытаемся их сложить, интерпретатор заметит, что у них совпадает одно из измерений: у них обоих $2$ столбца. Поэтому интерпретатор как бы \"растянет\" массив `b` до размера $2 \\times 3$ и прибавит его к массиву `a`:"
   ]
  },
  {
   "cell_type": "code",
   "execution_count": null,
   "metadata": {
    "colab": {
     "base_uri": "https://localhost:8080/"
    },
    "id": "gJIeCY7Rwes-",
    "executionInfo": {
     "status": "ok",
     "timestamp": 1671447620808,
     "user_tz": -180,
     "elapsed": 550,
     "user": {
      "displayName": "misha ndri (mishandri)",
      "userId": "02391373956068116885"
     }
    },
    "outputId": "c11c2cd1-3413-4851-ef8c-08763a08d120"
   },
   "outputs": [],
   "source": [
    "c = a + b\n",
    "\n",
    "print(c)"
   ]
  },
  {
   "cell_type": "markdown",
   "metadata": {
    "id": "Zxavjanjwes-"
   },
   "source": [
    "На самом деле здесь строка `b` просто прибавится к каждой строке массива `a`.\n",
    "\n",
    "Аналогично можно поступить и со столбцами:"
   ]
  },
  {
   "cell_type": "code",
   "execution_count": null,
   "metadata": {
    "colab": {
     "base_uri": "https://localhost:8080/"
    },
    "id": "u2V9xH7rwes-",
    "executionInfo": {
     "status": "ok",
     "timestamp": 1671448069116,
     "user_tz": -180,
     "elapsed": 381,
     "user": {
      "displayName": "misha ndri (mishandri)",
      "userId": "02391373956068116885"
     }
    },
    "outputId": "07e171cb-beb1-48c7-fb44-add9b0bcae59"
   },
   "outputs": [],
   "source": [
    "d = np.array([[0],\n",
    "              [1],\n",
    "              [-1]])\n",
    "\n",
    "e = a + d\n",
    "\n",
    "print(e)"
   ]
  },
  {
   "cell_type": "markdown",
   "metadata": {
    "id": "uxKBiXRlwes-"
   },
   "source": [
    "Интерпретатор заметит, что у этих массивов совпадает число строк, поэтому \"растянет\" массив `d` до размера массива `a`. Попросту говоря, столбец `b` прибавится к каждому из столбцов массива `a`.\n",
    "\n",
    "Имеются и более сложные конструкции broadcasting, о них можно почитать [здесь](https://docs.scipy.org/doc/numpy/user/basics.broadcasting.html).\n",
    "\n",
    "В случае, когда размеры массивов согласовать не удаётся, выпадает ошибка:"
   ]
  },
  {
   "cell_type": "code",
   "execution_count": null,
   "metadata": {
    "colab": {
     "base_uri": "https://localhost:8080/",
     "height": 200
    },
    "id": "6aUg8HpAwes-",
    "executionInfo": {
     "status": "error",
     "timestamp": 1671448073166,
     "user_tz": -180,
     "elapsed": 381,
     "user": {
      "displayName": "misha ndri (mishandri)",
      "userId": "02391373956068116885"
     }
    },
    "outputId": "aebb1407-7f10-4ba2-9d92-60b2ed5c72e0"
   },
   "outputs": [],
   "source": [
    "f = np.array([0, 1, -1])\n",
    "\n",
    "a + f"
   ]
  },
  {
   "cell_type": "markdown",
   "metadata": {
    "id": "CSz64601wes_"
   },
   "source": [
    "#### Статистические функции\n",
    "\n",
    "Вот несколько методов, позволяющих вычислить различные статистики массива `a`:\n",
    "\n",
    "* `a.min` - минимальное значение\n",
    "* `a.max` - максимальное значение\n",
    "* `a.mean` - среднее значение\n",
    "* `a.std` - среднее квадратическое отклонение\n",
    "\n",
    "Все эти значения считаются по всему массиву, либо вдоль определённой оси, если задан параметр `axis`."
   ]
  },
  {
   "cell_type": "code",
   "execution_count": null,
   "metadata": {
    "colab": {
     "base_uri": "https://localhost:8080/"
    },
    "id": "Dx9bbSH6wes_",
    "executionInfo": {
     "status": "ok",
     "timestamp": 1671448086147,
     "user_tz": -180,
     "elapsed": 427,
     "user": {
      "displayName": "misha ndri (mishandri)",
      "userId": "02391373956068116885"
     }
    },
    "outputId": "f4501599-1b13-4ad4-cbcb-4721a879c58c"
   },
   "outputs": [],
   "source": [
    "print(a)"
   ]
  },
  {
   "cell_type": "code",
   "execution_count": null,
   "metadata": {
    "colab": {
     "base_uri": "https://localhost:8080/"
    },
    "id": "3EYom8Ccwes_",
    "executionInfo": {
     "status": "ok",
     "timestamp": 1671448087607,
     "user_tz": -180,
     "elapsed": 16,
     "user": {
      "displayName": "misha ndri (mishandri)",
      "userId": "02391373956068116885"
     }
    },
    "outputId": "86473f54-2414-4a13-e409-cd3877dbdd77"
   },
   "outputs": [],
   "source": [
    "print(\"Минимальное значение: {}\".format(a.min()))\n",
    "\n",
    "print(\"Средние значения строк: {}\".format(a.mean(axis=1)))\n",
    "\n",
    "print(\"Средние квадратические отклонения столбцов: {}\".format(a.mean(axis=0)))"
   ]
  },
  {
   "cell_type": "markdown",
   "metadata": {
    "id": "RO-Ter7Owes_"
   },
   "source": [
    "### Запись и чтение массивов из файла\n",
    "\n",
    "Массивы `numpy` можно сохранять в файлы с расширением `.npy` и читать из таких файлов.\n",
    "\n",
    "Для записи массива в файл используется функция `np.save`:"
   ]
  },
  {
   "cell_type": "code",
   "execution_count": null,
   "metadata": {
    "id": "hlxvf2oZwetA",
    "executionInfo": {
     "status": "ok",
     "timestamp": 1671448128720,
     "user_tz": -180,
     "elapsed": 350,
     "user": {
      "displayName": "misha ndri (mishandri)",
      "userId": "02391373956068116885"
     }
    }
   },
   "outputs": [],
   "source": [
    "np.save(\"a.npy\", a)"
   ]
  },
  {
   "cell_type": "markdown",
   "metadata": {
    "id": "ExVLzbbBwetA"
   },
   "source": [
    "Для чтения из файла используется функция `np.load`:"
   ]
  },
  {
   "cell_type": "code",
   "execution_count": null,
   "metadata": {
    "id": "DDCMvA0QwetA",
    "executionInfo": {
     "status": "ok",
     "timestamp": 1671448130859,
     "user_tz": -180,
     "elapsed": 369,
     "user": {
      "displayName": "misha ndri (mishandri)",
      "userId": "02391373956068116885"
     }
    }
   },
   "outputs": [],
   "source": [
    "a = np.load(\"a.npy\")"
   ]
  }
 ],
 "metadata": {
  "colab": {
   "provenance": []
  },
  "kernelspec": {
   "display_name": "Python 3",
   "language": "python",
   "name": "python3"
  },
  "language_info": {
   "codemirror_mode": {
    "name": "ipython",
    "version": 3
   },
   "file_extension": ".py",
   "mimetype": "text/x-python",
   "name": "python",
   "nbconvert_exporter": "python",
   "pygments_lexer": "ipython3",
   "version": "3.6.7"
  }
 },
 "nbformat": 4,
 "nbformat_minor": 0
}
